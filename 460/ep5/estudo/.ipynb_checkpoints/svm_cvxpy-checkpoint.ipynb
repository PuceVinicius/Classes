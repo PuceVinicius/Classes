{
 "cells": [
  {
   "cell_type": "code",
   "execution_count": 2,
   "metadata": {},
   "outputs": [],
   "source": [
    "import cvxpy as cvx\n",
    "import numpy as np\n",
    "import time\n",
    "import matplotlib.pyplot as plt"
   ]
  },
  {
   "cell_type": "markdown",
   "metadata": {},
   "source": [
    "# Support Vector Machines\n",
    "### Objetivo do notebook\n",
    "O objetivo deste notebook é meramente mostrar como resolver alguns dos problemas de otimização mostrados no cap 8. do livro Learning From Data usando python. Para um tutorial de cvxpy, visite http://www.cvxpy.org/en/latest/tutorial/index.html.\n",
    "### Maior margem\n",
    "\n",
    "O objetivo do SVM é encontrar o hiperplano $(b, w^*)$ de separação que maximiza a margem entre as classes. Para encontrar o hiperplano ótimo, é preciso resolver o problema de minimização (eq. 8.4 Mostafa):\n",
    "\n",
    "\\begin{equation*}\n",
    "\\begin{aligned}\n",
    "& \\underset{b, w}{\\text{minimize}}\n",
    "& & \\frac{1}{2}w^{T}w \\\\\n",
    "& \\text{subject to}\n",
    "& & y_n(w^Tx_n + b) \\geq 1 \\qquad(n = 1, \\dots, N)\n",
    "\\end{aligned}\n",
    "\\end{equation*}\n",
    "\n",
    "Nesse exemplo é usado o pacote pra python cvxpy para resolver o problema de otimização. \n",
    "\n",
    "##### Toy dataset\n",
    "Abaixo é criado um \"toy dataset\" igual ao do exemplo 8.2 do livro."
   ]
  },
  {
   "cell_type": "code",
   "execution_count": 6,
   "metadata": {},
   "outputs": [
    {
     "data": {
      "image/png": "[encoded data removed]",
      "text/plain": [
       "<Figure size 432x288 with 1 Axes>"
      ]
     },
     "metadata": {},
     "output_type": "display_data"
    }
   ],
   "source": [
    "X = np.array([[0.0, 0.0], [2.0, 2.0], [2.0, 0.0], [3.0, 0.0]])\n",
    "y = np.array([-1.0, -1.0, 1.0, 1.0])\n",
    "\n",
    "N, d = X.shape\n",
    "\n",
    "plt.scatter(X[y==-1][:, 0], X[y==-1][:, 1], color='blue')\n",
    "plt.scatter(X[y==1][:, 0], X[y==1][:, 1], color='red')\n",
    "plt.axis('equal')\n",
    "plt.ylim(-1, 3)\n",
    "plt.xlim(-1, 4)\n",
    "plt.show()"
   ]
  },
  {
   "cell_type": "markdown",
   "metadata": {},
   "source": [
    "Como $\\frac{1}{2}w^Tw = \\frac{1}{2}\\vert\\vert w \\vert \\vert^2$, usamos as funções do cvxpy (http://www.cvxpy.org/en/latest/tutorial/functions/index.html) para escrever o problema de otimização:"
   ]
  },
  {
   "cell_type": "code",
   "execution_count": 7,
   "metadata": {},
   "outputs": [
    {
     "name": "stdout",
     "output_type": "stream",
     "text": [
      "Linear classifier weights:  1.000000000087375 -1.0000000000815807 -1.0000000002375025\n"
     ]
    }
   ],
   "source": [
    "# \"Standard\" svm\n",
    "w = cvx.Variable(2)\n",
    "b = cvx.Variable()\n",
    "\n",
    "constraints = [cvx.multiply(y, X*w + b) >= 1]\n",
    "obj = cvx.Minimize(0.5*(cvx.norm(w, 2)**2))\n",
    "svm = cvx.Problem(obj, constraints)\n",
    "\n",
    "svm.solve()\n",
    "\n",
    "print(\"Linear classifier weights: \", w.value[0], w.value[1], b.value)"
   ]
  },
  {
   "cell_type": "code",
   "execution_count": 8,
   "metadata": {},
   "outputs": [
    {
     "data": {
      "image/png": "[encoded data removed]",
      "text/plain": [
       "<Figure size 432x288 with 1 Axes>"
      ]
     },
     "metadata": {},
     "output_type": "display_data"
    }
   ],
   "source": [
    "def predict(X, w, b):\n",
    "    return np.sign(np.dot(X, w) + b)\n",
    "\n",
    "# Copiado de http://scikit-learn.org/stable/auto_examples/svm/plot_svm_margin.html\n",
    "def PlotLinearClf(X, y, w, b):\n",
    "    xlim = [np.min(X[:, 0]) - 1.0, np.max(X[:, 0]) + 1.0]\n",
    "    \n",
    "    xx = np.array(xlim)\n",
    "    a = -w[0]/w[1]\n",
    "    yy = a*xx - b/w[1]\n",
    "    \n",
    "    margin = 1.0/np.sqrt(np.sum(w**2))\n",
    "    yy_down = yy - np.sqrt(1 + a**2)*margin\n",
    "    yy_up = yy + np.sqrt(1 + a**2)*margin\n",
    "    \n",
    "    ymin = np.min([np.min(X[:, 1]), np.min(yy), np.min(yy_down), np.min(yy_up)])\n",
    "    ymax = np.max([np.max(X[:, 1]), np.max(yy), np.max(yy_down), np.max(yy_up)])\n",
    "    \n",
    "    XX, YY = np.mgrid[xx[0]:xx[1]:200j, ymin:ymax:200j]\n",
    "    Z = predict(np.c_[XX.ravel(), YY.ravel()], w, b)\n",
    "    test = np.c_[XX.ravel(), YY.ravel()][:2]\n",
    "    \n",
    "    Z = Z.reshape(XX.shape)\n",
    "    \n",
    "    plt.pcolormesh(XX, YY, Z, cmap=plt.cm.Paired)\n",
    "    \n",
    "    plt.plot(xx, yy, 'k-')\n",
    "    plt.plot(xx, yy_down, 'k--')\n",
    "    plt.plot(xx, yy_up, 'k--')\n",
    "    \n",
    "    plt.scatter(X[y==-1][:, 0], X[y==-1][:, 1], color='blue')\n",
    "    plt.scatter(X[y==1][:, 0], X[y==1][:, 1], color='red')\n",
    "    \n",
    "    plt.xlim(xlim[0], xlim[1])\n",
    "    plt.ylim(ymin, ymax)\n",
    "    plt.axis('tight')\n",
    "    plt.xticks(())\n",
    "    plt.yticks(())\n",
    "    plt.axis('equal')\n",
    "        \n",
    "    plt.show()\n",
    "    \n",
    "PlotLinearClf(X, y, np.asarray(w.value).reshape(-1), b.value)"
   ]
  },
  {
   "cell_type": "markdown",
   "metadata": {},
   "source": [
    "#### Formulação de programação quadrática\n",
    "Na equação 8.6, é apresentado o problema de otimização quadrática na forma matricial:\n",
    "\n",
    "\\begin{equation*}\n",
    "\\begin{aligned}\n",
    "& \\underset{u}{\\text{minimize}}\n",
    "& & \\frac{1}{2}u^{T}Qu + p^Tu \\\\\n",
    "& \\text{subject to}\n",
    "& & Au \\geq c\n",
    "\\end{aligned}\n",
    "\\end{equation*}\n",
    "\n",
    "Nesta formulação, o trabalho consiste em criar os vetores $c$ e $p$ além das matrizes $A$ e $Q$. (Vejam o quadro \"Linear Hard-Margin SVM with QP\" na página 10 do cap. 8):"
   ]
  },
  {
   "cell_type": "code",
   "execution_count": 9,
   "metadata": {},
   "outputs": [
    {
     "name": "stdout",
     "output_type": "stream",
     "text": [
      "0.030089378356933594\n"
     ]
    }
   ],
   "source": [
    "# Quadratic Programming formulation\n",
    "c = np.ones(N)\n",
    "p = np.zeros((d + 1))\n",
    "Q = np.identity(d + 1)\n",
    "Q[0, 0] = 0.0\n",
    "A = np.zeros((N, d + 1))\n",
    "A[:, 0] = y\n",
    "A[:, 1:] = X*y[:, np.newaxis]\n",
    "\n",
    "u = cvx.Variable(d + 1)\n",
    "\n",
    "constraints = [A*u >= c]\n",
    "obj = cvx.Minimize(0.5*cvx.quad_form(u, Q) + p.T*u)\n",
    "\n",
    "svm_qp = cvx.Problem(obj, constraints)\n",
    "\n",
    "start = time.time()\n",
    "svm_qp.solve()\n",
    "end = time.time()\n",
    "print(end-start)"
   ]
  },
  {
   "cell_type": "code",
   "execution_count": 10,
   "metadata": {},
   "outputs": [
    {
     "data": {
      "image/png": "[encoded data removed]",
      "text/plain": [
       "<Figure size 432x288 with 1 Axes>"
      ]
     },
     "metadata": {},
     "output_type": "display_data"
    }
   ],
   "source": [
    "w = np.asarray(u.value).reshape(-1)\n",
    "\n",
    "PlotLinearClf(X, y, w[1:], w[0])"
   ]
  },
  {
   "cell_type": "markdown",
   "metadata": {},
   "source": [
    "#### SVM Dual\n",
    "Na equação 8.6, é apresentado o problema de otimização quadrática na forma matricial:\n",
    "\n",
    "\\begin{equation*}\n",
    "\\begin{aligned}\n",
    "& \\underset{\\alpha \\geq 0}{\\text{max}} \\quad \\underset{u}{\\text{min}} \\mathcal{L}(u, \\alpha)\n",
    "\\end{aligned}\n",
    "\\end{equation*}\n",
    "\n",
    "Onde $\\mathcal{L}(u,\\alpha)$ é:\n",
    "\n",
    "\\begin{equation*}\n",
    "\\mathcal{L}(u, \\alpha) = \\frac{1}{2}u^{T}Qu + p^Tu + \\alpha(c - a^Tu)\n",
    "\\end{equation*}\n",
    "\n",
    "O exercício 8.11, mostra que esse problema é equivalente ao problema de programação quadrática:\n",
    "\n",
    "\\begin{equation*}\n",
    "\\begin{aligned}\n",
    "& \\underset{\\alpha}{\\text{minimize}}\n",
    "& & \\frac{1}{2}\\alpha^{T}Q_{D}\\alpha + \\textbf{1}^T_{N}\\alpha \\\\\n",
    "& \\text{subject to}\n",
    "& & A_{D}\\alpha \\geq \\textbf{0}_{N + 2}\n",
    "\\end{aligned}\n",
    "\\end{equation*}\n",
    "\n",
    "Onde $A_{D}$ e $Q_{D}$ são definidos no item (a) do exercício (e no quadro \"Hard Margin SVM with Dual QP\" da página 30)."
   ]
  },
  {
   "cell_type": "code",
   "execution_count": 11,
   "metadata": {},
   "outputs": [
    {
     "name": "stdout",
     "output_type": "stream",
     "text": [
      "0.020823955535888672\n",
      "[ 5.00001087e-01  4.99999939e-01  1.00000043e+00 -4.15275725e-07]\n"
     ]
    }
   ],
   "source": [
    "# Dual problem formulation\n",
    "# 1. Dual \"manual\"\n",
    "alpha = cvx.Variable(N)\n",
    "\n",
    "Q_d = np.zeros((N, N))\n",
    "for i in range(N):\n",
    "    for j in range(N):\n",
    "        Q_d[i, j] = y[i]*y[j]*np.dot(X[i], X[j])\n",
    "\n",
    "A_d = np.eye(N+2, N, -2)\n",
    "A_d[0] = y\n",
    "A_d[1] = -y\n",
    "\n",
    "constraints_dual = [A_d*alpha >= np.zeros(N + 2)]\n",
    "obj_dual = cvx.Minimize(0.5*cvx.quad_form(alpha, Q_d) - np.ones(N).T*alpha)\n",
    "svm_dual = cvx.Problem(obj_dual, constraints_dual)\n",
    "\n",
    "start = time.time()\n",
    "svm_dual.solve()\n",
    "end = time.time()\n",
    "print(end-start)\n",
    "\n",
    "print(alpha.value)"
   ]
  },
  {
   "cell_type": "code",
   "execution_count": 12,
   "metadata": {},
   "outputs": [
    {
     "name": "stdout",
     "output_type": "stream",
     "text": [
      "[ 0.99999974 -0.99999988]\n",
      "b_dual:  -1.0\n"
     ]
    },
    {
     "data": {
      "image/png": "[encoded data removed]",
      "text/plain": [
       "<Figure size 432x288 with 1 Axes>"
      ]
     },
     "metadata": {},
     "output_type": "display_data"
    }
   ],
   "source": [
    "# Recuperar w a partir do dual:\n",
    "alpha_arr = np.asarray(alpha.value).reshape(-1)\n",
    "w_dual = np.sum((X*alpha_arr[:, np.newaxis])*y[:, np.newaxis], axis=0)\n",
    "print(w_dual)\n",
    "\n",
    "#\n",
    "sv_idx = 0\n",
    "for i in range(len(alpha_arr)):\n",
    "    if alpha_arr[i] > 0:\n",
    "        sv_idx = i\n",
    "        break\n",
    "\n",
    "b_dual = y[sv_idx] - np.dot(w_dual, X[sv_idx])\n",
    "print(\"b_dual: \", b_dual)\n",
    "\n",
    "PlotLinearClf(X, y, w_dual, b_dual)"
   ]
  },
  {
   "cell_type": "code",
   "execution_count": null,
   "metadata": {},
   "outputs": [],
   "source": []
  }
 ],
 "metadata": {
  "kernelspec": {
   "display_name": "Python 3",
   "language": "python",
   "name": "python3"
  },
  "language_info": {
   "codemirror_mode": {
    "name": "ipython",
    "version": 3
   },
   "file_extension": ".py",
   "mimetype": "text/x-python",
   "name": "python",
   "nbconvert_exporter": "python",
   "pygments_lexer": "ipython3",
   "version": "3.7.3"
  },
  "latex_envs": {
   "LaTeX_envs_menu_present": true,
   "bibliofile": "biblio.bib",
   "cite_by": "apalike",
   "current_citInitial": 1,
   "eqLabelWithNumbers": true,
   "eqNumInitial": 1,
   "hotkeys": {
    "equation": "Ctrl-E",
    "itemize": "Ctrl-I"
   },
   "labels_anchors": false,
   "latex_user_defs": false,
   "report_style_numbering": false,
   "user_envs_cfg": false
  },
  "toc": {
   "colors": {
    "hover_highlight": "#DAA520",
    "running_highlight": "#FF0000",
    "selected_highlight": "#FFD700"
   },
   "moveMenuLeft": true,
   "nav_menu": {
    "height": "116px",
    "width": "252px"
   },
   "navigate_menu": true,
   "number_sections": true,
   "sideBar": true,
   "threshold": 4,
   "toc_cell": false,
   "toc_section_display": "block",
   "toc_window_display": false
  }
 },
 "nbformat": 4,
 "nbformat_minor": 2
}
