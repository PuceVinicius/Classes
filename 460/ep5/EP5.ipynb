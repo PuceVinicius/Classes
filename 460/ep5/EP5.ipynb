{
 "cells": [
  {
   "cell_type": "markdown",
   "metadata": {},
   "source": [
    "# EP5 - MAC0460 - Machine Learning\n",
    "Nesta primeira parte do código, peguei o dataset MNIST e, após sua leitura, selecionei todos os dados pertencentes às classes de interesse, tomando cuidado com as especificações informadas no enunciado do EP sobre _shape_ dos arrays e tamanho, por exemplo. Após selecioná-los, normalizei dividindo-os por 255 (valor máximo)"
   ]
  },
  {
   "cell_type": "code",
   "execution_count": 175,
   "metadata": {},
   "outputs": [
    {
     "name": "stdout",
     "output_type": "stream",
     "text": [
      "(5923, 784)\n",
      "(6742, 784)\n",
      "(5958, 784)\n",
      "(6131, 784)\n",
      "(5842, 784)\n"
     ]
    }
   ],
   "source": [
    "from keras.datasets import mnist\n",
    "import numpy as np\n",
    "from random import randint\n",
    "\n",
    "(x_train, y_train), (x_test, y_test) = mnist.load_data()\n",
    "\n",
    "X_train = np.empty((2500, 784))\n",
    "Y_train = np.empty((2500, ))\n",
    "\n",
    "max = 255\n",
    "\n",
    "interest_i = []\n",
    "\n",
    "interest = np.empty((0, 784))\n",
    "\n",
    "for i in range(5):\n",
    "    interest_i.append(interest)\n",
    "\n",
    "for i in range(60000):\n",
    "    if y_train[i] < 5:\n",
    "        x_t = x_train[i].flatten()\n",
    "        interest_i[y_train[i]] = np.append(interest_i[y_train[i]], [x_t], axis = 0)\n",
    "        size = interest_i[y_train[i]].shape[0]-1\n",
    "        for j in range(784):\n",
    "            interest_i[y_train[i]][size][j] = interest_i[y_train[i]][size][j]/max\n",
    "\n",
    "print(interest_i[0].shape)\n",
    "print(interest_i[1].shape)\n",
    "print(interest_i[2].shape)\n",
    "print(interest_i[3].shape)\n",
    "print(interest_i[4].shape)"
   ]
  },
  {
   "cell_type": "markdown",
   "metadata": {},
   "source": [
    "Com o _dataset_ dividido nas classes de interesse, selecionei aleatoriamente 500 dados de cada classe e coloquei no vetor _X_train_, junto com sua classificação em _Y_train_. Além disso, randomizei _X_train_ inteiro, tomando o cuidado de randomizar _Y_train_ de mesma forma para que a classificação de cada dado (_Y_train_) fosse acompanhada corretamente com o dado (_X_train_)"
   ]
  },
  {
   "cell_type": "code",
   "execution_count": 177,
   "metadata": {},
   "outputs": [
    {
     "name": "stdout",
     "output_type": "stream",
     "text": [
      "Terminou\n"
     ]
    }
   ],
   "source": [
    "def random_arr (start, index):\n",
    "    for i in range(start, start+500):\n",
    "        rand = randint(0, interest_i[index].shape[0]-1)\n",
    "        X_train[i] = interest_i[index][rand]\n",
    "        Y_train[i] = index\n",
    "        interest_i[index] = np.delete(interest_i[index], (rand), axis=0)\n",
    "\n",
    "for i in range(5):\n",
    "    random_arr(i*500, i)\n",
    "        \n",
    "rand = np.random.get_state()\n",
    "np.random.shuffle(X_train)\n",
    "np.random.set_state(rand)\n",
    "np.random.shuffle(Y_train)\n",
    "print(\"Terminou\") "
   ]
  },
  {
   "cell_type": "markdown",
   "metadata": {},
   "source": [
    "Aqui, selecionei todos os dados _x_test_ que respeitavam alguma das classes de interesse (_y_test_), e os coloquei em _X_test_, carregando cada uma das classes em _Y_test_. Além disso, normalizei dividindo por 255 também."
   ]
  },
  {
   "cell_type": "code",
   "execution_count": 178,
   "metadata": {},
   "outputs": [
    {
     "name": "stdout",
     "output_type": "stream",
     "text": [
      "(5139, 784)\n",
      "(5139,)\n"
     ]
    }
   ],
   "source": [
    "X_test = np.empty((0, 784))\n",
    "Y_test = np.empty((0, ))\n",
    "\n",
    "interest = np.empty((784, ))\n",
    "\n",
    "for i in range(10000):\n",
    "    if y_test[i] < 5:\n",
    "        for j in range(784):\n",
    "            interest[j] = x_test[i].flatten()[j]/max\n",
    "        X_test = np.append(X_test, [interest], axis = 0)\n",
    "        Y_test = np.append(Y_test, [y_test[i]], axis = 0)\n",
    "        \n",
    "print(X_test.shape)        \n",
    "print(Y_test.shape)"
   ]
  },
  {
   "cell_type": "code",
   "execution_count": 179,
   "metadata": {},
   "outputs": [
    {
     "name": "stdout",
     "output_type": "stream",
     "text": [
      "Shape de X_train e Y_train, respectivamente\n",
      "(2500, 784)\n",
      "(2500,)\n",
      "\n",
      "Shape de X_test e Y_test, respectivamente\n",
      "(5139, 784)\n",
      "(5139,)\n",
      "\n",
      "X_train\n",
      "mínimo:  0.0\n",
      "máximo:  1.0\n",
      "\n",
      "Y_train\n",
      "mínimo:  0.0\n",
      "máximo:  4.0\n",
      "\n",
      "X_test\n",
      "mínimo:  0.0\n",
      "máximo:  1.0\n",
      "\n",
      "Y_test\n",
      "mínimo:  0.0\n",
      "máximo:  4.0\n"
     ]
    }
   ],
   "source": [
    "print(\"Shape de X_train e Y_train, respectivamente\")\n",
    "print(X_train.shape)\n",
    "print(Y_train.shape)\n",
    "\n",
    "print(\"\")\n",
    "\n",
    "print(\"Shape de X_test e Y_test, respectivamente\")\n",
    "print(X_test.shape)\n",
    "print(Y_test.shape)\n",
    "\n",
    "print(\"\")\n",
    "\n",
    "print(\"X_train\")\n",
    "print(\"mínimo: \", np.amin(X_train))\n",
    "print(\"máximo: \", np.amax(X_train))\n",
    "\n",
    "print(\"\")\n",
    "\n",
    "print(\"Y_train\")\n",
    "print(\"mínimo: \", np.amin(Y_train))\n",
    "print(\"máximo: \", np.amax(Y_train))\n",
    "\n",
    "print(\"\")\n",
    "\n",
    "print(\"X_test\")\n",
    "print(\"mínimo: \", np.amin(X_test))\n",
    "print(\"máximo: \", np.amax(X_test))\n",
    "\n",
    "print(\"\")\n",
    "\n",
    "print(\"Y_test\")\n",
    "print(\"mínimo: \", np.amin(Y_test))\n",
    "print(\"máximo: \", np.amax(Y_test))"
   ]
  },
  {
   "cell_type": "markdown",
   "metadata": {},
   "source": [
    "No módulo abaixo, dividi o _X_train_ e _Y_train_ em duas partes, cinco vezes(baseado no _five-fold cross-validation_): uma das partes será o \"novo _dataset_\" para treino (4/5 do _X_train_) e a outra parte será o \"novo _dataset_\" para teste (o 1/5 restante do _X_train_). Tomei cuidado para que o 1/5 do novo teste fosse sempre somente de uma classe e, como fiz esse processo cinco vezes, todas as classes são selecionadas. Os 4/5 sempre serão o complemento dos 1/5 selecionado primeiramente."
   ]
  },
  {
   "cell_type": "code",
   "execution_count": 180,
   "metadata": {},
   "outputs": [],
   "source": [
    "X_test_i = np.array_split(X_train, 5)\n",
    "Y_test_i = np.array_split(Y_train, 5)\n",
    "\n",
    "x_training = np.empty((5, 2000, 784))\n",
    "y_training = np.empty((5, 2000))\n",
    "\n",
    "for i in range(5):\n",
    "    X_train_i = np.empty((0, 784))\n",
    "    Y_train_i = np.empty((0))\n",
    "    for j in range(0, i):\n",
    "        X_train_i = np.concatenate((X_train_i, X_test_i[j]))\n",
    "        Y_train_i = np.concatenate((Y_train_i, Y_test_i[j]))\n",
    "    for k in range(i+1, 5):\n",
    "        X_train_i = np.concatenate((X_train_i, X_test_i[k]))\n",
    "        Y_train_i = np.concatenate((Y_train_i, Y_test_i[k]))\n",
    "    x_training[i] = X_train_i\n",
    "    y_training[i] = Y_train_i"
   ]
  },
  {
   "cell_type": "markdown",
   "metadata": {},
   "source": [
    "Abaixo está o treinamento utilizando o classificador SVM com kernel RBF, implementado no _scikit-learn_. Selecionando o _X_train_ e _X_test_ que foram previamente divididos no módulo anterior corretamente, a implementeção do _five-fold cross-validation_ ficou bem fácil. É selecionado cada parcela da iteração e é contabilizado a quantidade de dados de cada classe e a precisão da iteração (além da média das precisões, ou seja, a precisão final do _cross-validation_)"
   ]
  },
  {
   "cell_type": "code",
   "execution_count": 181,
   "metadata": {},
   "outputs": [
    {
     "name": "stdout",
     "output_type": "stream",
     "text": [
      "* * * * *\n",
      "Iteração  0\n",
      "Classes -> 0: 93; 1: 95; 2: 106; 3: 101; 4: 105\n",
      "Acurácia: 97.6%\n",
      "* * * * *\n",
      "Iteração  1\n",
      "Classes -> 0: 97; 1: 104; 2: 105; 3: 103; 4: 91\n",
      "Acurácia: 97.4%\n",
      "* * * * *\n",
      "Iteração  2\n",
      "Classes -> 0: 101; 1: 110; 2: 85; 3: 95; 4: 109\n",
      "Acurácia: 98.0%\n",
      "* * * * *\n",
      "Iteração  3\n",
      "Classes -> 0: 107; 1: 102; 2: 98; 3: 98; 4: 95\n",
      "Acurácia: 96.8%\n",
      "* * * * *\n",
      "Iteração  4\n",
      "Classes -> 0: 102; 1: 89; 2: 106; 3: 103; 4: 100\n",
      "Acurácia: 97.2%\n",
      "* * * * *\n",
      "Cross-validation accuracy - SVM RBF: 97.4%\n"
     ]
    }
   ],
   "source": [
    "#SVM - RBF Kernel\n",
    "from sklearn import svm\n",
    "\n",
    "print(\"* * * * *\")\n",
    "\n",
    "errorsRBF = 0\n",
    "    \n",
    "rbf_svm = svm.SVC(kernel='rbf', gamma=0.05, C=5)\n",
    "\n",
    "for i in range(5):\n",
    "    rbf_svm.fit(x_training[i], y_training[i])\n",
    "    Y_tested = rbf_svm.predict(X_test_i[i])\n",
    "    \n",
    "    errorsITE = 0\n",
    "    count0 = 0\n",
    "    count1 = 0\n",
    "    count2 = 0\n",
    "    count3 = 0\n",
    "    count4 = 0\n",
    "    \n",
    "    for l in range(500):\n",
    "        \n",
    "        \n",
    "        if (Y_test_i[i][l] == 0):\n",
    "            count0 = count0 + 1\n",
    "        if (Y_test_i[i][l] == 1):\n",
    "            count1 = count1 + 1\n",
    "        if (Y_test_i[i][l] == 2):\n",
    "            count2 = count2 + 1\n",
    "        if (Y_test_i[i][l] == 3):\n",
    "            count3 = count3 + 1\n",
    "        if (Y_test_i[i][l] == 4):\n",
    "            count4 = count4 + 1\n",
    "\n",
    "            \n",
    "        if (Y_tested[l] != Y_test_i[i][l]):\n",
    "            errorsITE = errorsITE + 1\n",
    "            errorsRBF = errorsRBF + 1\n",
    "    print(\"Iteração \", i)\n",
    "    print(\"Classes -> 0: \", count0,\"; 1: \", count1,\"; 2: \", count2,\"; 3: \", count3,\"; 4: \", count4, sep='')\n",
    "    print(\"Acurácia: \", (500-errorsITE)/5,\"%\", sep='')\n",
    "    print(\"* * * * *\")\n",
    "print(\"Cross-validation accuracy - SVM RBF: \",(2500-errorsRBF)/25,\"%\", sep='')\n",
    "    "
   ]
  },
  {
   "cell_type": "markdown",
   "metadata": {},
   "source": [
    "Mesma coisa aqui, no entanto o classificador é o de redes neurais do tipo MLP, também implementado pelo _scikit-learn_. Com learning rate = 0.005 e número de nós das duas layers ocultas igual a 15 cada, acredito que obtive uma boa relação entre precisão _x_ tempo de execução."
   ]
  },
  {
   "cell_type": "code",
   "execution_count": 182,
   "metadata": {},
   "outputs": [
    {
     "name": "stdout",
     "output_type": "stream",
     "text": [
      "Iteração  0\n",
      "Classes -> 0: 93; 1: 95; 2: 106; 3: 101; 4: 105\n",
      "Acurácia: 97.0%\n",
      "* * * * *\n",
      "Iteração  1\n",
      "Classes -> 0: 97; 1: 104; 2: 105; 3: 103; 4: 91\n",
      "Acurácia: 96.2%\n",
      "* * * * *\n",
      "Iteração  2\n",
      "Classes -> 0: 101; 1: 110; 2: 85; 3: 95; 4: 109\n",
      "Acurácia: 96.2%\n",
      "* * * * *\n",
      "Iteração  3\n",
      "Classes -> 0: 107; 1: 102; 2: 98; 3: 98; 4: 95\n",
      "Acurácia: 96.0%\n",
      "* * * * *\n",
      "Iteração  4\n",
      "Classes -> 0: 102; 1: 89; 2: 106; 3: 103; 4: 100\n",
      "Acurácia: 95.2%\n",
      "* * * * *\n",
      "Cross-validation accuracy - Neural network MLP: 96.12%\n"
     ]
    }
   ],
   "source": [
    "from sklearn.neural_network import MLPClassifier as mlp\n",
    "\n",
    "errorsMLP = 0\n",
    "    \n",
    "nn_mlp = mlp(learning_rate_init=0.005, hidden_layer_sizes=(15, 15))\n",
    "\n",
    "for i in range(5):\n",
    "    nn_mlp.fit(x_training[i], y_training[i])\n",
    "    Y_tested = nn_mlp.predict(X_test_i[i])\n",
    "    \n",
    "    errorsITE = 0\n",
    "    count0 = 0\n",
    "    count1 = 0\n",
    "    count2 = 0\n",
    "    count3 = 0\n",
    "    count4 = 0\n",
    "    \n",
    "    for l in range(500):\n",
    "        \n",
    "        \n",
    "        if (Y_test_i[i][l] == 0):\n",
    "            count0 = count0 + 1\n",
    "        if (Y_test_i[i][l] == 1):\n",
    "            count1 = count1 + 1\n",
    "        if (Y_test_i[i][l] == 2):\n",
    "            count2 = count2 + 1\n",
    "        if (Y_test_i[i][l] == 3):\n",
    "            count3 = count3 + 1\n",
    "        if (Y_test_i[i][l] == 4):\n",
    "            count4 = count4 + 1\n",
    "\n",
    "            \n",
    "        if (Y_tested[l] != Y_test_i[i][l]):\n",
    "            errorsITE = errorsITE + 1\n",
    "            errorsMLP = errorsMLP + 1\n",
    "    print(\"Iteração \", i)\n",
    "    print(\"Classes -> 0: \", count0,\"; 1: \", count1,\"; 2: \", count2,\"; 3: \", count3,\"; 4: \", count4, sep='')\n",
    "    print(\"Acurácia: \", (500-errorsITE)/5,\"%\", sep='')\n",
    "    print(\"* * * * *\")\n",
    "print(\"Cross-validation accuracy - Neural network MLP: \",(2500-errorsMLP)/25,\"%\", sep='')"
   ]
  },
  {
   "cell_type": "markdown",
   "metadata": {},
   "source": [
    "Baseado nos testes efetuados nos módulos anteriores, escolhi usar o algortimo de SVM para receber o treinamento do _dataset_ completo, calculando a acurácia para o conjunto de teste (_X_test_, _Y_test_) e a quantidade de dados em cada classe."
   ]
  },
  {
   "cell_type": "code",
   "execution_count": 183,
   "metadata": {},
   "outputs": [
    {
     "name": "stdout",
     "output_type": "stream",
     "text": [
      "* * * * *\n",
      "Classes -> 0: 980; 1: 1135; 2: 1032; 3: 1010; 4: 982\n",
      "Acurácia: 98.482%\n",
      "* * * * *\n"
     ]
    }
   ],
   "source": [
    "#SVM - RBF Kernel\n",
    "from sklearn import svm\n",
    "from sklearn.metrics import confusion_matrix\n",
    "import matplotlib.pyplot as plt\n",
    "\n",
    "print(\"* * * * *\")\n",
    "\n",
    "errorsRBF = 0\n",
    "    \n",
    "rbf_svm2 = svm.SVC(kernel='rbf', gamma=0.05, C=5)\n",
    "\n",
    "rbf_svm2.fit(X_train, Y_train)\n",
    "Y_tested = rbf_svm.predict(X_test)\n",
    "\n",
    "errorsITE = 0\n",
    "count0 = 0\n",
    "count1 = 0\n",
    "count2 = 0\n",
    "count3 = 0\n",
    "count4 = 0\n",
    "\n",
    "for l in range(Y_tested.shape[0]):\n",
    "\n",
    "\n",
    "    if (Y_test[l] == 0):\n",
    "        count0 = count0 + 1\n",
    "    if (Y_test[l] == 1):\n",
    "        count1 = count1 + 1\n",
    "    if (Y_test[l] == 2):\n",
    "        count2 = count2 + 1\n",
    "    if (Y_test[l] == 3):\n",
    "        count3 = count3 + 1\n",
    "    if (Y_test[l] == 4):\n",
    "        count4 = count4 + 1\n",
    "\n",
    "\n",
    "    if (Y_tested[l] != Y_test[l]):\n",
    "        errorsITE = errorsITE + 1\n",
    "        errorsRBF = errorsRBF + 1\n",
    "        \n",
    "        \n",
    "print(\"Classes -> 0: \", count0,\"; 1: \", count1,\"; 2: \", count2,\"; 3: \", count3,\"; 4: \", count4, sep='')\n",
    "print(\"Acurácia: \", round((100*(Y_tested.shape[0]-errorsITE))/Y_tested.shape[0], 3),\"%\", sep='')\n",
    "print(\"* * * * *\")"
   ]
  },
  {
   "cell_type": "markdown",
   "metadata": {},
   "source": [
    "Para terminar, criei a matriz de confusão para a predição (após treinamento do _dataset_ completo). A implementação foi baseada em https://scikit-learn.org/stable/auto_examples/model_selection/plot_confusion_matrix.html, que é a implementação do _scikit-learn_ para a matriz de confusão."
   ]
  },
  {
   "cell_type": "code",
   "execution_count": 184,
   "metadata": {},
   "outputs": [],
   "source": [
    "import numpy as np\n",
    "import matplotlib.pyplot as plt\n",
    "\n",
    "from sklearn import svm, datasets\n",
    "from sklearn.model_selection import train_test_split\n",
    "from sklearn.metrics import confusion_matrix\n",
    "from sklearn.utils.multiclass import unique_labels\n",
    "\n",
    "# import some data to play with\n",
    "iris = datasets.load_iris()\n",
    "X = iris.data\n",
    "y = iris.target\n",
    "class_names = iris.target_names\n",
    "\n",
    "# Split the data into a training set and a test set\n",
    "X_train, X_test, y_train, y_test = train_test_split(X, y, random_state=0)\n",
    "\n",
    "# Run classifier, using a model that is too regularized (C too low) to see\n",
    "# the impact on the results\n",
    "classifier = svm.SVC(kernel='linear', C=0.01)\n",
    "y_pred = classifier.fit(X_train, y_train).predict(X_test)\n",
    "\n",
    "\n",
    "def plot_confusion_matrix(y_true, y_pred, classes,\n",
    "                          normalize=False,\n",
    "                          title=None,\n",
    "                          cmap=plt.cm.Blues):\n",
    "    \"\"\"\n",
    "    This function prints and plots the confusion matrix.\n",
    "    Normalization can be applied by setting `normalize=True`.\n",
    "    \"\"\"\n",
    "    if not title:\n",
    "        if normalize:\n",
    "            title = 'Matriz de confusão'\n",
    "        else:\n",
    "            title = 'Matriz de confusão'\n",
    "\n",
    "    # Compute confusion matrix\n",
    "    cm = confusion_matrix(y_true, y_pred)\n",
    "    # Only use the labels that appear in the data\n",
    "    if normalize:\n",
    "        cm = cm.astype('float') / cm.sum(axis=1)[:, np.newaxis]\n",
    "        print(\"Matriz de confusão normalizada\")\n",
    "    else:\n",
    "        print('Matriz de confusão sem normalização')\n",
    "\n",
    "    fig, ax = plt.subplots()\n",
    "    im = ax.imshow(cm, interpolation='nearest', cmap=cmap)\n",
    "    ax.figure.colorbar(im, ax=ax)\n",
    "    # We want to show all ticks...\n",
    "    ax.set(xticks=np.arange(cm.shape[1]),\n",
    "           yticks=np.arange(cm.shape[0]),\n",
    "           # ... and label them with the respective list entries\n",
    "           xticklabels=classes, yticklabels=classes,\n",
    "           title=title,\n",
    "           ylabel='True label',\n",
    "           xlabel='Predicted label')\n",
    "\n",
    "    # Rotate the tick labels and set their alignment.\n",
    "    plt.setp(ax.get_xticklabels(), rotation=45, ha=\"right\",\n",
    "             rotation_mode=\"anchor\")\n",
    "\n",
    "    # Loop over data dimensions and create text annotations.\n",
    "    fmt = '.2f' if normalize else 'd'\n",
    "    thresh = cm.max() / 2.\n",
    "    for i in range(cm.shape[0]):\n",
    "        for j in range(cm.shape[1]):\n",
    "            ax.text(j, i, format(cm[i, j], fmt),\n",
    "                    ha=\"center\", va=\"center\",\n",
    "                    color=\"white\" if cm[i, j] > thresh else \"black\")\n",
    "    fig.tight_layout()\n",
    "    return ax\n",
    "\n",
    "\n",
    "#np.set_printoptions(precision=2)\n",
    "\n",
    "# Plot non-normalized confusion matrix\n",
    "#plot_confusion_matrix(y_test, y_pred, classes=class_names,\n",
    "#                      title='Confusion matrix, without normalization')\n",
    "\n",
    "# Plot normalized confusion matrix\n",
    "#plot_confusion_matrix(y_test, y_pred, classes=class_names, normalize=True,\n",
    "#                      title='Normalized confusion matrix')\n",
    "\n",
    "#plt.show()"
   ]
  },
  {
   "cell_type": "markdown",
   "metadata": {},
   "source": [
    "Com os resultados apresentados na matriz de confusão, é possível afirmar que a predição feita pelo algorítmo foi bem sucedida, visto que poucos casos foram classificados erroneamente. Portanto, o algoritmo foi treinado eficientemente e foi um sucesso."
   ]
  },
  {
   "cell_type": "code",
   "execution_count": 185,
   "metadata": {},
   "outputs": [
    {
     "name": "stdout",
     "output_type": "stream",
     "text": [
      "Matriz de confusão sem normalização\n"
     ]
    },
    {
     "data": {
      "image/png": "[encoded data removed]",
      "text/plain": [
       "<Figure size 432x288 with 2 Axes>"
      ]
     },
     "metadata": {
      "needs_background": "light"
     },
     "output_type": "display_data"
    },
    {
     "name": "stdout",
     "output_type": "stream",
     "text": [
      "Matriz de confusão normalizada\n"
     ]
    },
    {
     "data": {
      "image/png": "[encoded data removed]",
      "text/plain": [
       "<Figure size 432x288 with 2 Axes>"
      ]
     },
     "metadata": {
      "needs_background": "light"
     },
     "output_type": "display_data"
    }
   ],
   "source": [
    "classes = ['0', '1', '2', '3', '4']\n",
    "plot_confusion_matrix(Y_test, Y_tested, classes) \n",
    "plt.show()\n",
    "\n",
    "plot_confusion_matrix(Y_test, Y_tested, classes, normalize=True) \n",
    "plt.show()"
   ]
  }
 ],
 "metadata": {
  "kernelspec": {
   "display_name": "Python 3",
   "language": "python",
   "name": "python3"
  },
  "language_info": {
   "codemirror_mode": {
    "name": "ipython",
    "version": 3
   },
   "file_extension": ".py",
   "mimetype": "text/x-python",
   "name": "python",
   "nbconvert_exporter": "python",
   "pygments_lexer": "ipython3",
   "version": "3.7.3"
  }
 },
 "nbformat": 4,
 "nbformat_minor": 2
}
