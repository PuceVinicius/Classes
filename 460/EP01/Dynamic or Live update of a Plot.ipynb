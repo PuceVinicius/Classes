{
 "cells": [
  {
   "cell_type": "markdown",
   "metadata": {},
   "source": [
    "# Dynamic or Live update of a Plot in Python"
   ]
  },
  {
   "cell_type": "markdown",
   "metadata": {},
   "source": [
    "In my work I am often required to visualize how the data or some aspect of model changes. This requires to have plots/graph which get Dynamically or Live updates. This notebook is about how to plot such graphs\n",
    "\n",
    "Imagine we have a 2D matrix A of (m x n) dimension where each row is a set of values. We record the initial set of values, Then these values get updated, then the update happens again, and again. Row 1 stores the initial values, row 2 stores the subsequent updated values, row 3 stores values after next update, so on and so forth. \n",
    "\n",
    "In esence, the matrix A stores the entire history of values. Now we will like to plot these values. Where the graph starts with values in first row, then gets updated to values in 2nd row, then gets updated tp values in 3rd row, so on and so forth. \n",
    "\n",
    "[This is especially useful in machine learning, where you want to visualize how a particular property of model/data evolves with time (training) ]"
   ]
  },
  {
   "cell_type": "code",
   "execution_count": 1,
   "metadata": {
    "collapsed": true
   },
   "outputs": [],
   "source": [
    "%matplotlib inline\n",
    "%load_ext autoreload\n",
    "%autoreload 2\n",
    "%matplotlib notebook"
   ]
  },
  {
   "cell_type": "code",
   "execution_count": 2,
   "metadata": {
    "collapsed": true
   },
   "outputs": [],
   "source": [
    "## Below is one way to do it"
   ]
  },
  {
   "cell_type": "code",
   "execution_count": 2,
   "metadata": {},
   "outputs": [],
   "source": [
    "# we create a matrix of 10 x 4 - \n",
    "import random\n",
    "N = 40\n",
    "M = 100\n",
    "a = [[random.random() for i in range(N)] for j in range(M)]\n",
    "\n",
    "#print a"
   ]
  },
  {
   "cell_type": "code",
   "execution_count": null,
   "metadata": {
    "scrolled": false
   },
   "outputs": [],
   "source": [
    "# now plot a dynamic graph\n",
    "\n",
    "#first the imports \n",
    "\n",
    "import scipy.stats as stats\n",
    "import matplotlib.pyplot as plt\n",
    "import numpy as np\n",
    "import time\n",
    "\n",
    "#initialise the graph and settings\n",
    "fig = plt.figure()\n",
    "ax = fig.add_subplot(111)\n",
    "plt.ion()\n",
    "\n",
    "fig.show()\n",
    "fig.canvas.draw()\n",
    "\n",
    "#iterate - plot, erase\n",
    "for i in range(0,M):\n",
    "    #print i\n",
    "    ax.clear() # - Clear\n",
    "    h = sorted(a[i])\n",
    "    fit = stats.norm.pdf(h, np.mean(h), np.std(h))\n",
    "    ax.plot(h,fit,'-o') # fit the line\n",
    "    ax.hist(h,normed=True) # fit the histogram\n",
    "    fig.canvas.draw()   # draw\n",
    "    #time.sleep(0.5)    #sleep"
   ]
  },
  {
   "cell_type": "code",
   "execution_count": 4,
   "metadata": {},
   "outputs": [],
   "source": [
    "# lets do the same thing, but this time the sleep of until user presses the key - Good old elementry C code way"
   ]
  },
  {
   "cell_type": "code",
   "execution_count": 10,
   "metadata": {},
   "outputs": [
    {
     "name": "stderr",
     "output_type": "stream",
     "text": [
      "/Library/Frameworks/Python.framework/Versions/3.6/lib/python3.6/site-packages/matplotlib/figure.py:459: UserWarning: matplotlib is currently using a non-GUI backend, so cannot show the figure\n",
      "  \"matplotlib is currently using a non-GUI backend, \"\n",
      "/Library/Frameworks/Python.framework/Versions/3.6/lib/python3.6/site-packages/matplotlib/axes/_axes.py:6462: UserWarning: The 'normed' kwarg is deprecated, and has been replaced by the 'density' kwarg.\n",
      "  warnings.warn(\"The 'normed' kwarg is deprecated, and has been \"\n"
     ]
    },
    {
     "data": {
      "image/png": "[encoded data removed]",
      "text/plain": [
       "<Figure size 432x288 with 1 Axes>"
      ]
     },
     "metadata": {
      "needs_background": "light"
     },
     "output_type": "display_data"
    }
   ],
   "source": [
    "#first the imports \n",
    "#%matplotlib notebook  # this is super important\n",
    "import scipy.stats as stats\n",
    "import matplotlib.pyplot as plt\n",
    "import numpy as np\n",
    "import time\n",
    "\n",
    "#initialise the graph and settings\n",
    "fig = plt.figure()\n",
    "ax = fig.add_subplot(111)\n",
    "plt.ion()\n",
    "\n",
    "fig.show()\n",
    "fig.canvas.draw()\n",
    "\n",
    "#iterate - plot, erase\n",
    "for i in range(0,M):\n",
    "    #print i\n",
    "    ax.clear() # - Clear\n",
    "    h = sorted(a[i])\n",
    "    fit = stats.norm.pdf(h, np.mean(h), np.std(h))\n",
    "    ax.plot(h,fit,'-o') # fit the line\n",
    "    ax.hist(h,normed=True) # fit the histogram\n",
    "    fig.canvas.draw()   # draw\n",
    "    time.sleep(0.1)    #sleep\n",
    "    #x = raw_input()     # this is python's way taking user input and wait unitl it gets the input.  \n",
    "    \n",
    "#The loop will run once, and wait for you to hit enter key, then next iteration "
   ]
  },
  {
   "cell_type": "code",
   "execution_count": null,
   "metadata": {},
   "outputs": [],
   "source": [
    "# another example\n",
    "\n",
    "m = 100\n",
    "n = 100\n",
    "matrix = np.random.normal(0,1,m*n).reshape(m,n)\n",
    "\n",
    "fig = plt.figure()\n",
    "ax = fig.add_subplot(111)\n",
    "plt.ion()\n",
    "\n",
    "fig.show()\n",
    "fig.canvas.draw()\n",
    "\n",
    "for i in range(0,100):\n",
    "    #print i\n",
    "    ax.clear()\n",
    "    #ax.plot(matrix[i,:])\n",
    "    ax.plot(matrix[i])\n",
    "    fig.canvas.draw()\n",
    "    time.sleep(0.5)\n"
   ]
  },
  {
   "cell_type": "markdown",
   "metadata": {},
   "source": [
    "Tried couple of other ways - but as of now this is the best way\n",
    "\n",
    "Tried _plotly_ - \n",
    "https://plot.ly/python/sending-data-to-charts/\n",
    "\n",
    "The problem I was facing was Though the data goes to the intended plot. \n",
    "py.plot() creates a new graph object everytime. \n",
    "\n",
    "Below is the code I tried\n",
    "    \n",
    "\n"
   ]
  },
  {
   "cell_type": "code",
   "execution_count": null,
   "metadata": {},
   "outputs": [],
   "source": [
    "import plotly.plotly as py\n",
    "from plotly.graph_objs import *\n",
    "\n",
    "data = Data([ Scatter(x=[1, 2], y=[3, 4]) ])\n",
    "\n",
    "plot_url = py.plot(data, filename='my plot')\n",
    "\n",
    "#for i in range(0,3):\n",
    "    data = Data([ Scatter(x=[1, 2], y=[3, 4]) ])\n",
    "    url = py.plot(data, filename='my plot')\n",
    "    url.refresh()\n",
    "    \n",
    "    \n",
    "\n",
    "    \n",
    "    \n",
    "    "
   ]
  },
  {
   "cell_type": "markdown",
   "metadata": {},
   "source": [
    "Now Lets complicate things a bit - \n",
    "imagine you have 2 set of points and you want to plot both Dynamically\n",
    "\n",
    "To prevent one from hidding the other, we make the plots partially transparent "
   ]
  },
  {
   "cell_type": "code",
   "execution_count": 3,
   "metadata": {
    "collapsed": true
   },
   "outputs": [],
   "source": [
    "\n",
    "import random\n",
    "N = 4\n",
    "M = 10\n",
    "a = [[random.randint(2,100) for i in range(N)] for j in range(M)]\n",
    "b = [[random.randint(20,30) for i in range(N)] for j in range(M)]"
   ]
  },
  {
   "cell_type": "code",
   "execution_count": null,
   "metadata": {},
   "outputs": [],
   "source": [
    "%matplotlib notebook\n",
    "import scipy.stats as stats\n",
    "import matplotlib.pyplot as plt\n",
    "import numpy as np\n",
    "import time\n",
    "\n",
    "#initialise the graph and settings\n",
    "fig = plt.figure()\n",
    "ax = fig.add_subplot(111)\n",
    "#ax.patch.set_alpha(0.1)\n",
    "plt.ion()\n",
    "\n",
    "fig.show()\n",
    "fig.canvas.draw()\n",
    "\n",
    "#iterate - plot, erase\n",
    "for i in range(0,M):\n",
    "    #print i\n",
    "    ax.clear() # - Clear\n",
    "    h1 = sorted(a[i])\n",
    "    h2 = sorted(b[i])\n",
    "    \n",
    "    fit1 = stats.norm.pdf(h1, np.mean(h1), np.std(h1))\n",
    "    fit2 = stats.norm.pdf(h2, np.mean(h2), np.std(h2))\n",
    "    \n",
    "    ax.plot(h1,fit1,'-o') # fit the line\n",
    "    ax.plot(h2,fit2,'-')\n",
    "    \n",
    "    ax.hist(h1,normed=True, label='a', alpha=0.5) # fit the histogram\n",
    "    ax.hist(h2,normed=True, label='b', alpha=0.5) # alpha sets transperency \n",
    "    \n",
    "    #ax.patch.set_alpha(0.1)\n",
    "    fig.canvas.draw()   # draw\n",
    "    time.sleep(0.5)    #sleep"
   ]
  },
  {
   "cell_type": "code",
   "execution_count": null,
   "metadata": {
    "collapsed": true
   },
   "outputs": [],
   "source": []
  }
 ],
 "metadata": {
  "kernelspec": {
   "display_name": "Python 3",
   "language": "python",
   "name": "python3"
  },
  "language_info": {
   "codemirror_mode": {
    "name": "ipython",
    "version": 3
   },
   "file_extension": ".py",
   "mimetype": "text/x-python",
   "name": "python",
   "nbconvert_exporter": "python",
   "pygments_lexer": "ipython3",
   "version": "3.6.3"
  }
 },
 "nbformat": 4,
 "nbformat_minor": 1
}
