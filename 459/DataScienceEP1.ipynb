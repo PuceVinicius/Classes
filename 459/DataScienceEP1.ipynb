{
 "cells": [
  {
   "cell_type": "markdown",
   "metadata": {},
   "source": [
    "## Indentification of all the members of the group.\n",
    "Name: Gabriel Miranda de Araujo     NUSP:10297689 \n",
    "\n",
    "Name: Vinícius Moreno da Silva      NUSP:10297776"
   ]
  },
  {
   "cell_type": "markdown",
   "metadata": {},
   "source": [
    "## Name of the dataset\n",
    "Dataset: student-mat e student-por"
   ]
  },
  {
   "cell_type": "markdown",
   "metadata": {},
   "source": [
    "## Motivation to choose this dataset\n",
    "Rational for choosing this dataset: Nós tinhamos interesse em descobrir fatores que podem impactar o desempenho dos estudantes"
   ]
  },
  {
   "cell_type": "markdown",
   "metadata": {},
   "source": [
    "## Abstract\n",
    "Abstract of the dataset (describe the dataset with your own words): O dataset aborda diversos aspectos das vidas dos estudantes, desde o ambiente familiar até atividades extracurriculares"
   ]
  },
  {
   "cell_type": "markdown",
   "metadata": {},
   "source": [
    "## Questions to the dataset\n",
    "Question 1: Qual a proporção do sexo dos estudantes para cada disciplina?\n",
    "\n",
    "Question 2: Há uma relação entre a idade e o número de reprovações?\n",
    "\n",
    "Question 3: Qual a correlação entre tempo de estudo e reprovações?\n",
    "\n",
    "Question 4: Relacionamentos amorosos afetam o tempo de estudo dos estudantes?\n",
    "\n",
    "Question 5: O status de relacionamento dos pais tem algum impacto significativo nas notas dos estudantes?"
   ]
  },
  {
   "cell_type": "markdown",
   "metadata": {},
   "source": [
    "## EDA\n",
    "Present your EDA strategy:"
   ]
  },
  {
   "cell_type": "code",
   "execution_count": 2,
   "metadata": {},
   "outputs": [],
   "source": [
    "##Question 1:"
   ]
  },
  {
   "cell_type": "code",
   "execution_count": 3,
   "metadata": {},
   "outputs": [],
   "source": [
    "##Question 2:"
   ]
  },
  {
   "cell_type": "code",
   "execution_count": 4,
   "metadata": {},
   "outputs": [],
   "source": [
    "##Question 3:"
   ]
  },
  {
   "cell_type": "code",
   "execution_count": 5,
   "metadata": {},
   "outputs": [],
   "source": [
    "##Question 4:"
   ]
  },
  {
   "cell_type": "code",
   "execution_count": null,
   "metadata": {},
   "outputs": [],
   "source": [
    "##Question 5:"
   ]
  }
 ],
 "metadata": {
  "kernelspec": {
   "display_name": "Python 3",
   "language": "python",
   "name": "python3"
  },
  "language_info": {
   "codemirror_mode": {
    "name": "ipython",
    "version": 3
   },
   "file_extension": ".py",
   "mimetype": "text/x-python",
   "name": "python",
   "nbconvert_exporter": "python",
   "pygments_lexer": "ipython3",
   "version": "3.6.3"
  }
 },
 "nbformat": 4,
 "nbformat_minor": 2
}
