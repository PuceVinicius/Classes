{
 "cells": [
  {
   "cell_type": "markdown",
   "metadata": {
    "colab_type": "text",
    "id": "pcz285F9QO7V",
    "slideshow": {
     "slide_type": "slide"
    }
   },
   "source": [
    "# MAC0459 - Ciência e Engenharia de Dados\n",
    "\n",
    "\n",
    "## Class 4: Exploratory Data Analysis\n",
    "\n",
    "- Mean\n",
    "- Median\n",
    "- Variance\n",
    "- Histogram"
   ]
  },
  {
   "cell_type": "markdown",
   "metadata": {
    "colab_type": "text",
    "id": "OyS0BARSQO7c",
    "slideshow": {
     "slide_type": "slide"
    }
   },
   "source": [
    "## Mean? What does the mean mean?\n",
    "\n",
    "- Given a  probability density function $f$ of a continous random variable $X$, the expected value of $X$ is given by:\n",
    "$$\n",
    "E[X] = \\int \\limits_{-\\infty}^{\\infty} x f(x) dx\n",
    "$$\n",
    "- A continous random variable (CRV) takes all possible values in the domain where it is defined.\n",
    "- It usually represents a physical quantity: distance, temperature, pressure, weight, etc.\n",
    "- Mathematical properties on $f$ must hold. "
   ]
  },
  {
   "cell_type": "markdown",
   "metadata": {
    "colab_type": "text",
    "id": "mTTO0JTeQO7i",
    "slideshow": {
     "slide_type": "slide"
    }
   },
   "source": [
    "## Mean? What does the mean mean?\n",
    "\n",
    "- Given a  probability distribution function $P$ of a discrete random variable $X$, defined on a countable set $D$, the expected value of $X$ is given by:\n",
    "$$\n",
    "E[X] = \\sum \\limits_{x\\in D} x P(x)\n",
    "$$\n",
    "- A discrete random variable (DRV) usually represents a countable quantity: years, days, levels, etc.\n",
    "- Mathematical properties on $P$ must hold.\n",
    "- We never have access to $P$ in the real world. "
   ]
  },
  {
   "cell_type": "markdown",
   "metadata": {
    "colab_type": "text",
    "id": "26mrECh1B5bP"
   },
   "source": [
    "## A Theory of Extramarital Affairs\n",
    "\n",
    "Ray Fair\n",
    "\n",
    "https://fairmodel.econ.yale.edu/rayfair/pdf/1978a200.pdf"
   ]
  },
  {
   "cell_type": "code",
   "execution_count": 1,
   "metadata": {
    "colab": {
     "base_uri": "https://localhost:8080/",
     "height": 277
    },
    "colab_type": "code",
    "id": "8ZlayVb3QO78",
    "outputId": "52dd42f1-4b02-40cc-bc1f-5b04deb4a05d",
    "slideshow": {
     "slide_type": "fragment"
    }
   },
   "outputs": [
    {
     "name": "stdout",
     "output_type": "stream",
     "text": [
      "<class 'pandas.core.frame.DataFrame'>\n",
      "RangeIndex: 601 entries, 0 to 600\n",
      "Data columns (total 10 columns):\n",
      "Unnamed: 0    601 non-null int64\n",
      "sex           601 non-null object\n",
      "age           601 non-null float64\n",
      "ym            601 non-null float64\n",
      "child         601 non-null object\n",
      "religious     601 non-null int64\n",
      "education     601 non-null int64\n",
      "occupation    601 non-null int64\n",
      "rate          601 non-null int64\n",
      "nbaffairs     601 non-null int64\n",
      "dtypes: float64(2), int64(6), object(2)\n",
      "memory usage: 47.0+ KB\n"
     ]
    }
   ],
   "source": [
    "import pandas as pd\n",
    "from statistics import mean, median\n",
    "\n",
    "affairs = pd.read_csv('http://vision.ime.usp.br/~hirata/Fair.csv')\n",
    "\n",
    "affairs.info()\n"
   ]
  },
  {
   "cell_type": "code",
   "execution_count": 2,
   "metadata": {
    "colab": {
     "base_uri": "https://localhost:8080/",
     "height": 202
    },
    "colab_type": "code",
    "id": "Hx-oFIiF-tl3",
    "outputId": "2f7ee920-0169-4db9-f28e-229721469330"
   },
   "outputs": [
    {
     "data": {
      "text/html": [
       "<div>\n",
       "<style scoped>\n",
       "    .dataframe tbody tr th:only-of-type {\n",
       "        vertical-align: middle;\n",
       "    }\n",
       "\n",
       "    .dataframe tbody tr th {\n",
       "        vertical-align: top;\n",
       "    }\n",
       "\n",
       "    .dataframe thead th {\n",
       "        text-align: right;\n",
       "    }\n",
       "</style>\n",
       "<table border=\"1\" class=\"dataframe\">\n",
       "  <thead>\n",
       "    <tr style=\"text-align: right;\">\n",
       "      <th></th>\n",
       "      <th>Unnamed: 0</th>\n",
       "      <th>sex</th>\n",
       "      <th>age</th>\n",
       "      <th>ym</th>\n",
       "      <th>child</th>\n",
       "      <th>religious</th>\n",
       "      <th>education</th>\n",
       "      <th>occupation</th>\n",
       "      <th>rate</th>\n",
       "      <th>nbaffairs</th>\n",
       "    </tr>\n",
       "  </thead>\n",
       "  <tbody>\n",
       "    <tr>\n",
       "      <th>0</th>\n",
       "      <td>1</td>\n",
       "      <td>male</td>\n",
       "      <td>37.0</td>\n",
       "      <td>10.00</td>\n",
       "      <td>no</td>\n",
       "      <td>3</td>\n",
       "      <td>18</td>\n",
       "      <td>7</td>\n",
       "      <td>4</td>\n",
       "      <td>0</td>\n",
       "    </tr>\n",
       "    <tr>\n",
       "      <th>1</th>\n",
       "      <td>2</td>\n",
       "      <td>female</td>\n",
       "      <td>27.0</td>\n",
       "      <td>4.00</td>\n",
       "      <td>no</td>\n",
       "      <td>4</td>\n",
       "      <td>14</td>\n",
       "      <td>6</td>\n",
       "      <td>4</td>\n",
       "      <td>0</td>\n",
       "    </tr>\n",
       "    <tr>\n",
       "      <th>2</th>\n",
       "      <td>3</td>\n",
       "      <td>female</td>\n",
       "      <td>32.0</td>\n",
       "      <td>15.00</td>\n",
       "      <td>yes</td>\n",
       "      <td>1</td>\n",
       "      <td>12</td>\n",
       "      <td>1</td>\n",
       "      <td>4</td>\n",
       "      <td>0</td>\n",
       "    </tr>\n",
       "    <tr>\n",
       "      <th>3</th>\n",
       "      <td>4</td>\n",
       "      <td>male</td>\n",
       "      <td>57.0</td>\n",
       "      <td>15.00</td>\n",
       "      <td>yes</td>\n",
       "      <td>5</td>\n",
       "      <td>18</td>\n",
       "      <td>6</td>\n",
       "      <td>5</td>\n",
       "      <td>0</td>\n",
       "    </tr>\n",
       "    <tr>\n",
       "      <th>4</th>\n",
       "      <td>5</td>\n",
       "      <td>male</td>\n",
       "      <td>22.0</td>\n",
       "      <td>0.75</td>\n",
       "      <td>no</td>\n",
       "      <td>2</td>\n",
       "      <td>17</td>\n",
       "      <td>6</td>\n",
       "      <td>3</td>\n",
       "      <td>0</td>\n",
       "    </tr>\n",
       "  </tbody>\n",
       "</table>\n",
       "</div>"
      ],
      "text/plain": [
       "   Unnamed: 0     sex   age     ym child  religious  education  occupation  \\\n",
       "0           1    male  37.0  10.00    no          3         18           7   \n",
       "1           2  female  27.0   4.00    no          4         14           6   \n",
       "2           3  female  32.0  15.00   yes          1         12           1   \n",
       "3           4    male  57.0  15.00   yes          5         18           6   \n",
       "4           5    male  22.0   0.75    no          2         17           6   \n",
       "\n",
       "   rate  nbaffairs  \n",
       "0     4          0  \n",
       "1     4          0  \n",
       "2     4          0  \n",
       "3     5          0  \n",
       "4     3          0  "
      ]
     },
     "execution_count": 2,
     "metadata": {},
     "output_type": "execute_result"
    }
   ],
   "source": [
    "affairs.head()"
   ]
  },
  {
   "cell_type": "code",
   "execution_count": 78,
   "metadata": {},
   "outputs": [
    {
     "data": {
      "text/html": [
       "<div>\n",
       "<style scoped>\n",
       "    .dataframe tbody tr th:only-of-type {\n",
       "        vertical-align: middle;\n",
       "    }\n",
       "\n",
       "    .dataframe tbody tr th {\n",
       "        vertical-align: top;\n",
       "    }\n",
       "\n",
       "    .dataframe thead th {\n",
       "        text-align: right;\n",
       "    }\n",
       "</style>\n",
       "<table border=\"1\" class=\"dataframe\">\n",
       "  <thead>\n",
       "    <tr style=\"text-align: right;\">\n",
       "      <th></th>\n",
       "      <th>Unnamed: 0</th>\n",
       "      <th>sex</th>\n",
       "      <th>age</th>\n",
       "      <th>ym</th>\n",
       "      <th>child</th>\n",
       "      <th>religious</th>\n",
       "      <th>education</th>\n",
       "      <th>occupation</th>\n",
       "      <th>rate</th>\n",
       "      <th>nbaffairs</th>\n",
       "      <th>below_30</th>\n",
       "      <th>affbw_30</th>\n",
       "    </tr>\n",
       "  </thead>\n",
       "  <tbody>\n",
       "    <tr>\n",
       "      <th>596</th>\n",
       "      <td>597</td>\n",
       "      <td>male</td>\n",
       "      <td>22.0</td>\n",
       "      <td>1.5</td>\n",
       "      <td>yes</td>\n",
       "      <td>1</td>\n",
       "      <td>12</td>\n",
       "      <td>2</td>\n",
       "      <td>5</td>\n",
       "      <td>1</td>\n",
       "      <td>True</td>\n",
       "      <td>True</td>\n",
       "    </tr>\n",
       "    <tr>\n",
       "      <th>597</th>\n",
       "      <td>598</td>\n",
       "      <td>female</td>\n",
       "      <td>32.0</td>\n",
       "      <td>10.0</td>\n",
       "      <td>yes</td>\n",
       "      <td>2</td>\n",
       "      <td>18</td>\n",
       "      <td>5</td>\n",
       "      <td>4</td>\n",
       "      <td>7</td>\n",
       "      <td>False</td>\n",
       "      <td>False</td>\n",
       "    </tr>\n",
       "    <tr>\n",
       "      <th>598</th>\n",
       "      <td>599</td>\n",
       "      <td>male</td>\n",
       "      <td>32.0</td>\n",
       "      <td>10.0</td>\n",
       "      <td>yes</td>\n",
       "      <td>2</td>\n",
       "      <td>17</td>\n",
       "      <td>6</td>\n",
       "      <td>5</td>\n",
       "      <td>2</td>\n",
       "      <td>False</td>\n",
       "      <td>False</td>\n",
       "    </tr>\n",
       "    <tr>\n",
       "      <th>599</th>\n",
       "      <td>600</td>\n",
       "      <td>male</td>\n",
       "      <td>22.0</td>\n",
       "      <td>7.0</td>\n",
       "      <td>yes</td>\n",
       "      <td>3</td>\n",
       "      <td>18</td>\n",
       "      <td>6</td>\n",
       "      <td>2</td>\n",
       "      <td>2</td>\n",
       "      <td>True</td>\n",
       "      <td>True</td>\n",
       "    </tr>\n",
       "    <tr>\n",
       "      <th>600</th>\n",
       "      <td>601</td>\n",
       "      <td>female</td>\n",
       "      <td>32.0</td>\n",
       "      <td>15.0</td>\n",
       "      <td>yes</td>\n",
       "      <td>3</td>\n",
       "      <td>14</td>\n",
       "      <td>1</td>\n",
       "      <td>5</td>\n",
       "      <td>1</td>\n",
       "      <td>False</td>\n",
       "      <td>False</td>\n",
       "    </tr>\n",
       "  </tbody>\n",
       "</table>\n",
       "</div>"
      ],
      "text/plain": [
       "     Unnamed: 0     sex   age    ym child  religious  education  occupation  \\\n",
       "596         597    male  22.0   1.5   yes          1         12           2   \n",
       "597         598  female  32.0  10.0   yes          2         18           5   \n",
       "598         599    male  32.0  10.0   yes          2         17           6   \n",
       "599         600    male  22.0   7.0   yes          3         18           6   \n",
       "600         601  female  32.0  15.0   yes          3         14           1   \n",
       "\n",
       "     rate  nbaffairs  below_30  affbw_30  \n",
       "596     5          1      True      True  \n",
       "597     4          7     False     False  \n",
       "598     5          2     False     False  \n",
       "599     2          2      True      True  \n",
       "600     5          1     False     False  "
      ]
     },
     "execution_count": 78,
     "metadata": {},
     "output_type": "execute_result"
    }
   ],
   "source": [
    "affairs.tail()"
   ]
  },
  {
   "cell_type": "code",
   "execution_count": 81,
   "metadata": {
    "colab": {
     "base_uri": "https://localhost:8080/",
     "height": 35
    },
    "colab_type": "code",
    "id": "FkaNWcp1-9G2",
    "outputId": "fd83defc-a29a-4f5f-84dd-1ec4fea9d2ac"
   },
   "outputs": [
    {
     "data": {
      "text/plain": [
       "0     451\n",
       "7      42\n",
       "12     38\n",
       "1      34\n",
       "3      19\n",
       "2      17\n",
       "Name: nbaffairs, dtype: int64"
      ]
     },
     "execution_count": 81,
     "metadata": {},
     "output_type": "execute_result"
    }
   ],
   "source": [
    "affairs['nbaffairs'].value_counts()\n"
   ]
  },
  {
   "cell_type": "code",
   "execution_count": 4,
   "metadata": {
    "colab": {
     "base_uri": "https://localhost:8080/",
     "height": 69
    },
    "colab_type": "code",
    "id": "r6ZfgqZv_Zcv",
    "outputId": "354cb1a3-b4fe-4fdf-e2a7-828d92a2c15c"
   },
   "outputs": [
    {
     "data": {
      "text/plain": [
       "female    315\n",
       "male      286\n",
       "Name: sex, dtype: int64"
      ]
     },
     "execution_count": 4,
     "metadata": {},
     "output_type": "execute_result"
    }
   ],
   "source": [
    "affairs['sex'].value_counts()"
   ]
  },
  {
   "cell_type": "code",
   "execution_count": 5,
   "metadata": {
    "colab": {
     "base_uri": "https://localhost:8080/",
     "height": 35
    },
    "colab_type": "code",
    "id": "AxrXQRcG_ocI",
    "outputId": "45127f87-e80d-4a2f-a6b4-cf54d16b45ee"
   },
   "outputs": [
    {
     "data": {
      "text/plain": [
       "32.48752079866888"
      ]
     },
     "execution_count": 5,
     "metadata": {},
     "output_type": "execute_result"
    }
   ],
   "source": [
    "mean(affairs['age'])"
   ]
  },
  {
   "cell_type": "code",
   "execution_count": 6,
   "metadata": {
    "colab": {
     "base_uri": "https://localhost:8080/",
     "height": 35
    },
    "colab_type": "code",
    "id": "CfWUlWMLCH5r",
    "outputId": "a52b4dfd-fc28-4860-bdd4-c5951db50ed1"
   },
   "outputs": [
    {
     "data": {
      "text/plain": [
       "32.48752079866888"
      ]
     },
     "execution_count": 6,
     "metadata": {},
     "output_type": "execute_result"
    }
   ],
   "source": [
    "affairs['age'].mean()"
   ]
  },
  {
   "cell_type": "code",
   "execution_count": 7,
   "metadata": {
    "colab": {
     "base_uri": "https://localhost:8080/",
     "height": 35
    },
    "colab_type": "code",
    "id": "2OjY1oR5_voO",
    "outputId": "8845215a-ce04-44bd-b60f-69b1c115ba14"
   },
   "outputs": [
    {
     "data": {
      "text/plain": [
       "8.17769550748752"
      ]
     },
     "execution_count": 7,
     "metadata": {},
     "output_type": "execute_result"
    }
   ],
   "source": [
    "affairs['ym'].mean()"
   ]
  },
  {
   "cell_type": "code",
   "execution_count": 8,
   "metadata": {
    "colab": {
     "base_uri": "https://localhost:8080/",
     "height": 35
    },
    "colab_type": "code",
    "id": "-ENsd4u2_3dt",
    "outputId": "500301a5-de5e-46f2-90f1-2fb7f5d19d4e"
   },
   "outputs": [
    {
     "data": {
      "text/plain": [
       "3.9317803660565724"
      ]
     },
     "execution_count": 8,
     "metadata": {},
     "output_type": "execute_result"
    }
   ],
   "source": [
    "affairs['rate'].mean()"
   ]
  },
  {
   "cell_type": "code",
   "execution_count": 9,
   "metadata": {
    "colab": {
     "base_uri": "https://localhost:8080/",
     "height": 35
    },
    "colab_type": "code",
    "id": "SA-ch8t0Ahch",
    "outputId": "1d3bb332-15ce-4e31-fd63-6e1f884a6327"
   },
   "outputs": [
    {
     "data": {
      "text/plain": [
       "32.0"
      ]
     },
     "execution_count": 9,
     "metadata": {},
     "output_type": "execute_result"
    }
   ],
   "source": [
    "affairs['age'].median()"
   ]
  },
  {
   "cell_type": "code",
   "execution_count": 10,
   "metadata": {
    "colab": {
     "base_uri": "https://localhost:8080/",
     "height": 35
    },
    "colab_type": "code",
    "id": "8-oX8J_rArML",
    "outputId": "5915498a-2ed3-4910-dfa1-7eb605952485"
   },
   "outputs": [
    {
     "data": {
      "text/plain": [
       "7.0"
      ]
     },
     "execution_count": 10,
     "metadata": {},
     "output_type": "execute_result"
    }
   ],
   "source": [
    "affairs['ym'].median()"
   ]
  },
  {
   "cell_type": "code",
   "execution_count": 11,
   "metadata": {
    "colab": {
     "base_uri": "https://localhost:8080/",
     "height": 35
    },
    "colab_type": "code",
    "id": "QptizhX6A31_",
    "outputId": "449e4902-d8ad-4a89-95e6-2a5146d8128f"
   },
   "outputs": [
    {
     "data": {
      "text/plain": [
       "15.0"
      ]
     },
     "execution_count": 11,
     "metadata": {},
     "output_type": "execute_result"
    }
   ],
   "source": [
    "affairs['ym'].max()"
   ]
  },
  {
   "cell_type": "code",
   "execution_count": 12,
   "metadata": {
    "colab": {
     "base_uri": "https://localhost:8080/",
     "height": 173
    },
    "colab_type": "code",
    "id": "_z9y7UXdA85h",
    "outputId": "7cfcdeae-1a86-4f19-c044-72db95271ba7"
   },
   "outputs": [
    {
     "data": {
      "text/plain": [
       "count    601.000000\n",
       "mean       8.177696\n",
       "std        5.571303\n",
       "min        0.125000\n",
       "25%        4.000000\n",
       "50%        7.000000\n",
       "75%       15.000000\n",
       "max       15.000000\n",
       "Name: ym, dtype: float64"
      ]
     },
     "execution_count": 12,
     "metadata": {},
     "output_type": "execute_result"
    }
   ],
   "source": [
    "affairs['ym'].describe()"
   ]
  },
  {
   "cell_type": "code",
   "execution_count": 13,
   "metadata": {
    "colab": {
     "base_uri": "https://localhost:8080/",
     "height": 294
    },
    "colab_type": "code",
    "id": "DesbJBOIB_1l",
    "outputId": "ffc62364-9a48-4acf-f786-8d7303cff574"
   },
   "outputs": [
    {
     "data": {
      "text/html": [
       "<div>\n",
       "<style scoped>\n",
       "    .dataframe tbody tr th:only-of-type {\n",
       "        vertical-align: middle;\n",
       "    }\n",
       "\n",
       "    .dataframe tbody tr th {\n",
       "        vertical-align: top;\n",
       "    }\n",
       "\n",
       "    .dataframe thead th {\n",
       "        text-align: right;\n",
       "    }\n",
       "</style>\n",
       "<table border=\"1\" class=\"dataframe\">\n",
       "  <thead>\n",
       "    <tr style=\"text-align: right;\">\n",
       "      <th></th>\n",
       "      <th>Unnamed: 0</th>\n",
       "      <th>age</th>\n",
       "      <th>ym</th>\n",
       "      <th>religious</th>\n",
       "      <th>education</th>\n",
       "      <th>occupation</th>\n",
       "      <th>rate</th>\n",
       "      <th>nbaffairs</th>\n",
       "    </tr>\n",
       "  </thead>\n",
       "  <tbody>\n",
       "    <tr>\n",
       "      <th>count</th>\n",
       "      <td>601.000000</td>\n",
       "      <td>601.000000</td>\n",
       "      <td>601.000000</td>\n",
       "      <td>601.000000</td>\n",
       "      <td>601.000000</td>\n",
       "      <td>601.000000</td>\n",
       "      <td>601.000000</td>\n",
       "      <td>601.000000</td>\n",
       "    </tr>\n",
       "    <tr>\n",
       "      <th>mean</th>\n",
       "      <td>301.000000</td>\n",
       "      <td>32.487521</td>\n",
       "      <td>8.177696</td>\n",
       "      <td>3.116473</td>\n",
       "      <td>16.166389</td>\n",
       "      <td>4.194676</td>\n",
       "      <td>3.931780</td>\n",
       "      <td>1.455907</td>\n",
       "    </tr>\n",
       "    <tr>\n",
       "      <th>std</th>\n",
       "      <td>173.638033</td>\n",
       "      <td>9.288762</td>\n",
       "      <td>5.571303</td>\n",
       "      <td>1.167509</td>\n",
       "      <td>2.402555</td>\n",
       "      <td>1.819443</td>\n",
       "      <td>1.103179</td>\n",
       "      <td>3.298758</td>\n",
       "    </tr>\n",
       "    <tr>\n",
       "      <th>min</th>\n",
       "      <td>1.000000</td>\n",
       "      <td>17.500000</td>\n",
       "      <td>0.125000</td>\n",
       "      <td>1.000000</td>\n",
       "      <td>9.000000</td>\n",
       "      <td>1.000000</td>\n",
       "      <td>1.000000</td>\n",
       "      <td>0.000000</td>\n",
       "    </tr>\n",
       "    <tr>\n",
       "      <th>25%</th>\n",
       "      <td>151.000000</td>\n",
       "      <td>27.000000</td>\n",
       "      <td>4.000000</td>\n",
       "      <td>2.000000</td>\n",
       "      <td>14.000000</td>\n",
       "      <td>3.000000</td>\n",
       "      <td>3.000000</td>\n",
       "      <td>0.000000</td>\n",
       "    </tr>\n",
       "    <tr>\n",
       "      <th>50%</th>\n",
       "      <td>301.000000</td>\n",
       "      <td>32.000000</td>\n",
       "      <td>7.000000</td>\n",
       "      <td>3.000000</td>\n",
       "      <td>16.000000</td>\n",
       "      <td>5.000000</td>\n",
       "      <td>4.000000</td>\n",
       "      <td>0.000000</td>\n",
       "    </tr>\n",
       "    <tr>\n",
       "      <th>75%</th>\n",
       "      <td>451.000000</td>\n",
       "      <td>37.000000</td>\n",
       "      <td>15.000000</td>\n",
       "      <td>4.000000</td>\n",
       "      <td>18.000000</td>\n",
       "      <td>6.000000</td>\n",
       "      <td>5.000000</td>\n",
       "      <td>0.000000</td>\n",
       "    </tr>\n",
       "    <tr>\n",
       "      <th>max</th>\n",
       "      <td>601.000000</td>\n",
       "      <td>57.000000</td>\n",
       "      <td>15.000000</td>\n",
       "      <td>5.000000</td>\n",
       "      <td>20.000000</td>\n",
       "      <td>7.000000</td>\n",
       "      <td>5.000000</td>\n",
       "      <td>12.000000</td>\n",
       "    </tr>\n",
       "  </tbody>\n",
       "</table>\n",
       "</div>"
      ],
      "text/plain": [
       "       Unnamed: 0         age          ym   religious   education  occupation  \\\n",
       "count  601.000000  601.000000  601.000000  601.000000  601.000000  601.000000   \n",
       "mean   301.000000   32.487521    8.177696    3.116473   16.166389    4.194676   \n",
       "std    173.638033    9.288762    5.571303    1.167509    2.402555    1.819443   \n",
       "min      1.000000   17.500000    0.125000    1.000000    9.000000    1.000000   \n",
       "25%    151.000000   27.000000    4.000000    2.000000   14.000000    3.000000   \n",
       "50%    301.000000   32.000000    7.000000    3.000000   16.000000    5.000000   \n",
       "75%    451.000000   37.000000   15.000000    4.000000   18.000000    6.000000   \n",
       "max    601.000000   57.000000   15.000000    5.000000   20.000000    7.000000   \n",
       "\n",
       "             rate   nbaffairs  \n",
       "count  601.000000  601.000000  \n",
       "mean     3.931780    1.455907  \n",
       "std      1.103179    3.298758  \n",
       "min      1.000000    0.000000  \n",
       "25%      3.000000    0.000000  \n",
       "50%      4.000000    0.000000  \n",
       "75%      5.000000    0.000000  \n",
       "max      5.000000   12.000000  "
      ]
     },
     "execution_count": 13,
     "metadata": {},
     "output_type": "execute_result"
    }
   ],
   "source": [
    "affairs.describe()"
   ]
  },
  {
   "cell_type": "code",
   "execution_count": 14,
   "metadata": {
    "colab": {
     "base_uri": "https://localhost:8080/",
     "height": 294
    },
    "colab_type": "code",
    "id": "9y5Gg6MYDkjk",
    "outputId": "975bf1b8-4b11-40a4-c374-6f381eda9063"
   },
   "outputs": [
    {
     "data": {
      "text/html": [
       "<div>\n",
       "<style scoped>\n",
       "    .dataframe tbody tr th:only-of-type {\n",
       "        vertical-align: middle;\n",
       "    }\n",
       "\n",
       "    .dataframe tbody tr th {\n",
       "        vertical-align: top;\n",
       "    }\n",
       "\n",
       "    .dataframe thead th {\n",
       "        text-align: right;\n",
       "    }\n",
       "</style>\n",
       "<table border=\"1\" class=\"dataframe\">\n",
       "  <thead>\n",
       "    <tr style=\"text-align: right;\">\n",
       "      <th></th>\n",
       "      <th>Unnamed: 0</th>\n",
       "      <th>age</th>\n",
       "      <th>ym</th>\n",
       "      <th>religious</th>\n",
       "      <th>education</th>\n",
       "      <th>occupation</th>\n",
       "      <th>rate</th>\n",
       "      <th>nbaffairs</th>\n",
       "    </tr>\n",
       "  </thead>\n",
       "  <tbody>\n",
       "    <tr>\n",
       "      <th>count</th>\n",
       "      <td>315.000000</td>\n",
       "      <td>315.000000</td>\n",
       "      <td>315.000000</td>\n",
       "      <td>315.000000</td>\n",
       "      <td>315.000000</td>\n",
       "      <td>315.000000</td>\n",
       "      <td>315.000000</td>\n",
       "      <td>315.000000</td>\n",
       "    </tr>\n",
       "    <tr>\n",
       "      <th>mean</th>\n",
       "      <td>297.679365</td>\n",
       "      <td>30.801587</td>\n",
       "      <td>8.017070</td>\n",
       "      <td>3.107937</td>\n",
       "      <td>15.257143</td>\n",
       "      <td>3.384127</td>\n",
       "      <td>3.939683</td>\n",
       "      <td>1.419048</td>\n",
       "    </tr>\n",
       "    <tr>\n",
       "      <th>std</th>\n",
       "      <td>171.195298</td>\n",
       "      <td>8.646241</td>\n",
       "      <td>5.627237</td>\n",
       "      <td>1.134758</td>\n",
       "      <td>2.023879</td>\n",
       "      <td>1.929094</td>\n",
       "      <td>1.148045</td>\n",
       "      <td>3.309264</td>\n",
       "    </tr>\n",
       "    <tr>\n",
       "      <th>min</th>\n",
       "      <td>2.000000</td>\n",
       "      <td>17.500000</td>\n",
       "      <td>0.125000</td>\n",
       "      <td>1.000000</td>\n",
       "      <td>9.000000</td>\n",
       "      <td>1.000000</td>\n",
       "      <td>1.000000</td>\n",
       "      <td>0.000000</td>\n",
       "    </tr>\n",
       "    <tr>\n",
       "      <th>25%</th>\n",
       "      <td>157.500000</td>\n",
       "      <td>22.000000</td>\n",
       "      <td>1.500000</td>\n",
       "      <td>2.000000</td>\n",
       "      <td>14.000000</td>\n",
       "      <td>1.000000</td>\n",
       "      <td>3.000000</td>\n",
       "      <td>0.000000</td>\n",
       "    </tr>\n",
       "    <tr>\n",
       "      <th>50%</th>\n",
       "      <td>305.000000</td>\n",
       "      <td>27.000000</td>\n",
       "      <td>7.000000</td>\n",
       "      <td>3.000000</td>\n",
       "      <td>16.000000</td>\n",
       "      <td>4.000000</td>\n",
       "      <td>4.000000</td>\n",
       "      <td>0.000000</td>\n",
       "    </tr>\n",
       "    <tr>\n",
       "      <th>75%</th>\n",
       "      <td>439.500000</td>\n",
       "      <td>37.000000</td>\n",
       "      <td>15.000000</td>\n",
       "      <td>4.000000</td>\n",
       "      <td>17.000000</td>\n",
       "      <td>5.000000</td>\n",
       "      <td>5.000000</td>\n",
       "      <td>0.000000</td>\n",
       "    </tr>\n",
       "    <tr>\n",
       "      <th>max</th>\n",
       "      <td>601.000000</td>\n",
       "      <td>57.000000</td>\n",
       "      <td>15.000000</td>\n",
       "      <td>5.000000</td>\n",
       "      <td>20.000000</td>\n",
       "      <td>7.000000</td>\n",
       "      <td>5.000000</td>\n",
       "      <td>12.000000</td>\n",
       "    </tr>\n",
       "  </tbody>\n",
       "</table>\n",
       "</div>"
      ],
      "text/plain": [
       "       Unnamed: 0         age          ym   religious   education  occupation  \\\n",
       "count  315.000000  315.000000  315.000000  315.000000  315.000000  315.000000   \n",
       "mean   297.679365   30.801587    8.017070    3.107937   15.257143    3.384127   \n",
       "std    171.195298    8.646241    5.627237    1.134758    2.023879    1.929094   \n",
       "min      2.000000   17.500000    0.125000    1.000000    9.000000    1.000000   \n",
       "25%    157.500000   22.000000    1.500000    2.000000   14.000000    1.000000   \n",
       "50%    305.000000   27.000000    7.000000    3.000000   16.000000    4.000000   \n",
       "75%    439.500000   37.000000   15.000000    4.000000   17.000000    5.000000   \n",
       "max    601.000000   57.000000   15.000000    5.000000   20.000000    7.000000   \n",
       "\n",
       "             rate   nbaffairs  \n",
       "count  315.000000  315.000000  \n",
       "mean     3.939683    1.419048  \n",
       "std      1.148045    3.309264  \n",
       "min      1.000000    0.000000  \n",
       "25%      3.000000    0.000000  \n",
       "50%      4.000000    0.000000  \n",
       "75%      5.000000    0.000000  \n",
       "max      5.000000   12.000000  "
      ]
     },
     "execution_count": 14,
     "metadata": {},
     "output_type": "execute_result"
    }
   ],
   "source": [
    "affairs[affairs['sex'] == 'female'].describe()"
   ]
  },
  {
   "cell_type": "code",
   "execution_count": 15,
   "metadata": {
    "colab": {
     "base_uri": "https://localhost:8080/",
     "height": 294
    },
    "colab_type": "code",
    "id": "sIYR8ivWDqME",
    "outputId": "c3dcdf5a-0a46-475f-82b5-35bb0aaf8def"
   },
   "outputs": [
    {
     "data": {
      "text/html": [
       "<div>\n",
       "<style scoped>\n",
       "    .dataframe tbody tr th:only-of-type {\n",
       "        vertical-align: middle;\n",
       "    }\n",
       "\n",
       "    .dataframe tbody tr th {\n",
       "        vertical-align: top;\n",
       "    }\n",
       "\n",
       "    .dataframe thead th {\n",
       "        text-align: right;\n",
       "    }\n",
       "</style>\n",
       "<table border=\"1\" class=\"dataframe\">\n",
       "  <thead>\n",
       "    <tr style=\"text-align: right;\">\n",
       "      <th></th>\n",
       "      <th>Unnamed: 0</th>\n",
       "      <th>age</th>\n",
       "      <th>ym</th>\n",
       "      <th>religious</th>\n",
       "      <th>education</th>\n",
       "      <th>occupation</th>\n",
       "      <th>rate</th>\n",
       "      <th>nbaffairs</th>\n",
       "    </tr>\n",
       "  </thead>\n",
       "  <tbody>\n",
       "    <tr>\n",
       "      <th>count</th>\n",
       "      <td>286.000000</td>\n",
       "      <td>286.000000</td>\n",
       "      <td>286.000000</td>\n",
       "      <td>286.000000</td>\n",
       "      <td>286.000000</td>\n",
       "      <td>286.000000</td>\n",
       "      <td>286.000000</td>\n",
       "      <td>286.000000</td>\n",
       "    </tr>\n",
       "    <tr>\n",
       "      <th>mean</th>\n",
       "      <td>304.657343</td>\n",
       "      <td>34.344406</td>\n",
       "      <td>8.354608</td>\n",
       "      <td>3.125874</td>\n",
       "      <td>17.167832</td>\n",
       "      <td>5.087413</td>\n",
       "      <td>3.923077</td>\n",
       "      <td>1.496503</td>\n",
       "    </tr>\n",
       "    <tr>\n",
       "      <th>std</th>\n",
       "      <td>176.517406</td>\n",
       "      <td>9.626959</td>\n",
       "      <td>5.513464</td>\n",
       "      <td>1.204478</td>\n",
       "      <td>2.391464</td>\n",
       "      <td>1.158969</td>\n",
       "      <td>1.053495</td>\n",
       "      <td>3.292467</td>\n",
       "    </tr>\n",
       "    <tr>\n",
       "      <th>min</th>\n",
       "      <td>1.000000</td>\n",
       "      <td>17.500000</td>\n",
       "      <td>0.125000</td>\n",
       "      <td>1.000000</td>\n",
       "      <td>9.000000</td>\n",
       "      <td>1.000000</td>\n",
       "      <td>1.000000</td>\n",
       "      <td>0.000000</td>\n",
       "    </tr>\n",
       "    <tr>\n",
       "      <th>25%</th>\n",
       "      <td>150.250000</td>\n",
       "      <td>27.000000</td>\n",
       "      <td>4.000000</td>\n",
       "      <td>2.000000</td>\n",
       "      <td>16.000000</td>\n",
       "      <td>5.000000</td>\n",
       "      <td>3.000000</td>\n",
       "      <td>0.000000</td>\n",
       "    </tr>\n",
       "    <tr>\n",
       "      <th>50%</th>\n",
       "      <td>299.500000</td>\n",
       "      <td>32.000000</td>\n",
       "      <td>7.000000</td>\n",
       "      <td>3.000000</td>\n",
       "      <td>18.000000</td>\n",
       "      <td>5.000000</td>\n",
       "      <td>4.000000</td>\n",
       "      <td>0.000000</td>\n",
       "    </tr>\n",
       "    <tr>\n",
       "      <th>75%</th>\n",
       "      <td>466.500000</td>\n",
       "      <td>37.000000</td>\n",
       "      <td>15.000000</td>\n",
       "      <td>4.000000</td>\n",
       "      <td>20.000000</td>\n",
       "      <td>6.000000</td>\n",
       "      <td>5.000000</td>\n",
       "      <td>1.000000</td>\n",
       "    </tr>\n",
       "    <tr>\n",
       "      <th>max</th>\n",
       "      <td>600.000000</td>\n",
       "      <td>57.000000</td>\n",
       "      <td>15.000000</td>\n",
       "      <td>5.000000</td>\n",
       "      <td>20.000000</td>\n",
       "      <td>7.000000</td>\n",
       "      <td>5.000000</td>\n",
       "      <td>12.000000</td>\n",
       "    </tr>\n",
       "  </tbody>\n",
       "</table>\n",
       "</div>"
      ],
      "text/plain": [
       "       Unnamed: 0         age          ym   religious   education  occupation  \\\n",
       "count  286.000000  286.000000  286.000000  286.000000  286.000000  286.000000   \n",
       "mean   304.657343   34.344406    8.354608    3.125874   17.167832    5.087413   \n",
       "std    176.517406    9.626959    5.513464    1.204478    2.391464    1.158969   \n",
       "min      1.000000   17.500000    0.125000    1.000000    9.000000    1.000000   \n",
       "25%    150.250000   27.000000    4.000000    2.000000   16.000000    5.000000   \n",
       "50%    299.500000   32.000000    7.000000    3.000000   18.000000    5.000000   \n",
       "75%    466.500000   37.000000   15.000000    4.000000   20.000000    6.000000   \n",
       "max    600.000000   57.000000   15.000000    5.000000   20.000000    7.000000   \n",
       "\n",
       "             rate   nbaffairs  \n",
       "count  286.000000  286.000000  \n",
       "mean     3.923077    1.496503  \n",
       "std      1.053495    3.292467  \n",
       "min      1.000000    0.000000  \n",
       "25%      3.000000    0.000000  \n",
       "50%      4.000000    0.000000  \n",
       "75%      5.000000    1.000000  \n",
       "max      5.000000   12.000000  "
      ]
     },
     "execution_count": 15,
     "metadata": {},
     "output_type": "execute_result"
    }
   ],
   "source": [
    "affairs[affairs['sex'] == 'male'].describe()"
   ]
  },
  {
   "cell_type": "code",
   "execution_count": 16,
   "metadata": {
    "colab": {
     "base_uri": "https://localhost:8080/",
     "height": 69
    },
    "colab_type": "code",
    "id": "l7SUhB8BEMn5",
    "outputId": "a2c7a7ea-55c8-4191-d3c8-efe22fffc36d"
   },
   "outputs": [
    {
     "data": {
      "text/plain": [
       "False    325\n",
       "True     276\n",
       "Name: below_30, dtype: int64"
      ]
     },
     "execution_count": 16,
     "metadata": {},
     "output_type": "execute_result"
    }
   ],
   "source": [
    "affairs['below_30'] = affairs['age'] < 30\n",
    "affairs['below_30'].value_counts()"
   ]
  },
  {
   "cell_type": "code",
   "execution_count": 17,
   "metadata": {
    "colab": {
     "base_uri": "https://localhost:8080/",
     "height": 202
    },
    "colab_type": "code",
    "id": "Dpz0f50zEjQK",
    "outputId": "873f087e-e6ca-4bbc-b0fb-6208e3fe0c68"
   },
   "outputs": [
    {
     "data": {
      "text/html": [
       "<div>\n",
       "<style scoped>\n",
       "    .dataframe tbody tr th:only-of-type {\n",
       "        vertical-align: middle;\n",
       "    }\n",
       "\n",
       "    .dataframe tbody tr th {\n",
       "        vertical-align: top;\n",
       "    }\n",
       "\n",
       "    .dataframe thead th {\n",
       "        text-align: right;\n",
       "    }\n",
       "</style>\n",
       "<table border=\"1\" class=\"dataframe\">\n",
       "  <thead>\n",
       "    <tr style=\"text-align: right;\">\n",
       "      <th></th>\n",
       "      <th>Unnamed: 0</th>\n",
       "      <th>sex</th>\n",
       "      <th>age</th>\n",
       "      <th>ym</th>\n",
       "      <th>child</th>\n",
       "      <th>religious</th>\n",
       "      <th>education</th>\n",
       "      <th>occupation</th>\n",
       "      <th>rate</th>\n",
       "      <th>nbaffairs</th>\n",
       "      <th>below_30</th>\n",
       "    </tr>\n",
       "  </thead>\n",
       "  <tbody>\n",
       "    <tr>\n",
       "      <th>596</th>\n",
       "      <td>597</td>\n",
       "      <td>male</td>\n",
       "      <td>22.0</td>\n",
       "      <td>1.5</td>\n",
       "      <td>yes</td>\n",
       "      <td>1</td>\n",
       "      <td>12</td>\n",
       "      <td>2</td>\n",
       "      <td>5</td>\n",
       "      <td>1</td>\n",
       "      <td>True</td>\n",
       "    </tr>\n",
       "    <tr>\n",
       "      <th>597</th>\n",
       "      <td>598</td>\n",
       "      <td>female</td>\n",
       "      <td>32.0</td>\n",
       "      <td>10.0</td>\n",
       "      <td>yes</td>\n",
       "      <td>2</td>\n",
       "      <td>18</td>\n",
       "      <td>5</td>\n",
       "      <td>4</td>\n",
       "      <td>7</td>\n",
       "      <td>False</td>\n",
       "    </tr>\n",
       "    <tr>\n",
       "      <th>598</th>\n",
       "      <td>599</td>\n",
       "      <td>male</td>\n",
       "      <td>32.0</td>\n",
       "      <td>10.0</td>\n",
       "      <td>yes</td>\n",
       "      <td>2</td>\n",
       "      <td>17</td>\n",
       "      <td>6</td>\n",
       "      <td>5</td>\n",
       "      <td>2</td>\n",
       "      <td>False</td>\n",
       "    </tr>\n",
       "    <tr>\n",
       "      <th>599</th>\n",
       "      <td>600</td>\n",
       "      <td>male</td>\n",
       "      <td>22.0</td>\n",
       "      <td>7.0</td>\n",
       "      <td>yes</td>\n",
       "      <td>3</td>\n",
       "      <td>18</td>\n",
       "      <td>6</td>\n",
       "      <td>2</td>\n",
       "      <td>2</td>\n",
       "      <td>True</td>\n",
       "    </tr>\n",
       "    <tr>\n",
       "      <th>600</th>\n",
       "      <td>601</td>\n",
       "      <td>female</td>\n",
       "      <td>32.0</td>\n",
       "      <td>15.0</td>\n",
       "      <td>yes</td>\n",
       "      <td>3</td>\n",
       "      <td>14</td>\n",
       "      <td>1</td>\n",
       "      <td>5</td>\n",
       "      <td>1</td>\n",
       "      <td>False</td>\n",
       "    </tr>\n",
       "  </tbody>\n",
       "</table>\n",
       "</div>"
      ],
      "text/plain": [
       "     Unnamed: 0     sex   age    ym child  religious  education  occupation  \\\n",
       "596         597    male  22.0   1.5   yes          1         12           2   \n",
       "597         598  female  32.0  10.0   yes          2         18           5   \n",
       "598         599    male  32.0  10.0   yes          2         17           6   \n",
       "599         600    male  22.0   7.0   yes          3         18           6   \n",
       "600         601  female  32.0  15.0   yes          3         14           1   \n",
       "\n",
       "     rate  nbaffairs  below_30  \n",
       "596     5          1      True  \n",
       "597     4          7     False  \n",
       "598     5          2     False  \n",
       "599     2          2      True  \n",
       "600     5          1     False  "
      ]
     },
     "execution_count": 17,
     "metadata": {},
     "output_type": "execute_result"
    }
   ],
   "source": [
    "affairs.tail()"
   ]
  },
  {
   "cell_type": "code",
   "execution_count": 18,
   "metadata": {
    "colab": {
     "base_uri": "https://localhost:8080/",
     "height": 69
    },
    "colab_type": "code",
    "id": "lyXXd_QiEtFK",
    "outputId": "e8f6dd1a-dff5-423a-af74-cd4e2cab07bb"
   },
   "outputs": [
    {
     "data": {
      "text/plain": [
       "False    546\n",
       "True      55\n",
       "Name: affbw_30, dtype: int64"
      ]
     },
     "execution_count": 18,
     "metadata": {},
     "output_type": "execute_result"
    }
   ],
   "source": [
    "affairs['affbw_30'] = (affairs['nbaffairs'] != 0) & affairs['below_30']\n",
    "affairs['affbw_30'].value_counts()"
   ]
  },
  {
   "cell_type": "code",
   "execution_count": 19,
   "metadata": {
    "colab": {
     "base_uri": "https://localhost:8080/",
     "height": 202
    },
    "colab_type": "code",
    "id": "5oSr-QN_IBgl",
    "outputId": "8d172e1e-aa45-487a-ad87-b27e0a01b2dd"
   },
   "outputs": [
    {
     "data": {
      "text/html": [
       "<div>\n",
       "<style scoped>\n",
       "    .dataframe tbody tr th:only-of-type {\n",
       "        vertical-align: middle;\n",
       "    }\n",
       "\n",
       "    .dataframe tbody tr th {\n",
       "        vertical-align: top;\n",
       "    }\n",
       "\n",
       "    .dataframe thead th {\n",
       "        text-align: right;\n",
       "    }\n",
       "</style>\n",
       "<table border=\"1\" class=\"dataframe\">\n",
       "  <thead>\n",
       "    <tr style=\"text-align: right;\">\n",
       "      <th></th>\n",
       "      <th>Unnamed: 0</th>\n",
       "      <th>sex</th>\n",
       "      <th>age</th>\n",
       "      <th>ym</th>\n",
       "      <th>child</th>\n",
       "      <th>religious</th>\n",
       "      <th>education</th>\n",
       "      <th>occupation</th>\n",
       "      <th>rate</th>\n",
       "      <th>nbaffairs</th>\n",
       "      <th>below_30</th>\n",
       "      <th>affbw_30</th>\n",
       "    </tr>\n",
       "  </thead>\n",
       "  <tbody>\n",
       "    <tr>\n",
       "      <th>596</th>\n",
       "      <td>597</td>\n",
       "      <td>male</td>\n",
       "      <td>22.0</td>\n",
       "      <td>1.5</td>\n",
       "      <td>yes</td>\n",
       "      <td>1</td>\n",
       "      <td>12</td>\n",
       "      <td>2</td>\n",
       "      <td>5</td>\n",
       "      <td>1</td>\n",
       "      <td>True</td>\n",
       "      <td>True</td>\n",
       "    </tr>\n",
       "    <tr>\n",
       "      <th>597</th>\n",
       "      <td>598</td>\n",
       "      <td>female</td>\n",
       "      <td>32.0</td>\n",
       "      <td>10.0</td>\n",
       "      <td>yes</td>\n",
       "      <td>2</td>\n",
       "      <td>18</td>\n",
       "      <td>5</td>\n",
       "      <td>4</td>\n",
       "      <td>7</td>\n",
       "      <td>False</td>\n",
       "      <td>False</td>\n",
       "    </tr>\n",
       "    <tr>\n",
       "      <th>598</th>\n",
       "      <td>599</td>\n",
       "      <td>male</td>\n",
       "      <td>32.0</td>\n",
       "      <td>10.0</td>\n",
       "      <td>yes</td>\n",
       "      <td>2</td>\n",
       "      <td>17</td>\n",
       "      <td>6</td>\n",
       "      <td>5</td>\n",
       "      <td>2</td>\n",
       "      <td>False</td>\n",
       "      <td>False</td>\n",
       "    </tr>\n",
       "    <tr>\n",
       "      <th>599</th>\n",
       "      <td>600</td>\n",
       "      <td>male</td>\n",
       "      <td>22.0</td>\n",
       "      <td>7.0</td>\n",
       "      <td>yes</td>\n",
       "      <td>3</td>\n",
       "      <td>18</td>\n",
       "      <td>6</td>\n",
       "      <td>2</td>\n",
       "      <td>2</td>\n",
       "      <td>True</td>\n",
       "      <td>True</td>\n",
       "    </tr>\n",
       "    <tr>\n",
       "      <th>600</th>\n",
       "      <td>601</td>\n",
       "      <td>female</td>\n",
       "      <td>32.0</td>\n",
       "      <td>15.0</td>\n",
       "      <td>yes</td>\n",
       "      <td>3</td>\n",
       "      <td>14</td>\n",
       "      <td>1</td>\n",
       "      <td>5</td>\n",
       "      <td>1</td>\n",
       "      <td>False</td>\n",
       "      <td>False</td>\n",
       "    </tr>\n",
       "  </tbody>\n",
       "</table>\n",
       "</div>"
      ],
      "text/plain": [
       "     Unnamed: 0     sex   age    ym child  religious  education  occupation  \\\n",
       "596         597    male  22.0   1.5   yes          1         12           2   \n",
       "597         598  female  32.0  10.0   yes          2         18           5   \n",
       "598         599    male  32.0  10.0   yes          2         17           6   \n",
       "599         600    male  22.0   7.0   yes          3         18           6   \n",
       "600         601  female  32.0  15.0   yes          3         14           1   \n",
       "\n",
       "     rate  nbaffairs  below_30  affbw_30  \n",
       "596     5          1      True      True  \n",
       "597     4          7     False     False  \n",
       "598     5          2     False     False  \n",
       "599     2          2      True      True  \n",
       "600     5          1     False     False  "
      ]
     },
     "execution_count": 19,
     "metadata": {},
     "output_type": "execute_result"
    }
   ],
   "source": [
    "affairs.tail()"
   ]
  },
  {
   "cell_type": "markdown",
   "metadata": {
    "colab_type": "text",
    "id": "mkJXvvGLHVQt"
   },
   "source": [
    "## Split-Apply-Combine"
   ]
  },
  {
   "cell_type": "code",
   "execution_count": 23,
   "metadata": {
    "colab": {
     "base_uri": "https://localhost:8080/",
     "height": 485
    },
    "colab_type": "code",
    "id": "Q3YEQol2HIlG",
    "outputId": "6bc909f7-49c7-4bdc-e994-9f4306b5dc37"
   },
   "outputs": [
    {
     "data": {
      "image/png": "[encoded data removed]",
      "text/plain": [
       "<Figure size 576x432 with 1 Axes>"
      ]
     },
     "metadata": {},
     "output_type": "display_data"
    }
   ],
   "source": [
    "def draw_dataframe(df, loc=None, width=None, ax=None, linestyle=None,\n",
    "                   textstyle=None):\n",
    "    loc = loc or [0, 0]\n",
    "    width = width or 1\n",
    "\n",
    "    x, y = loc\n",
    "\n",
    "    if ax is None:\n",
    "        ax = plt.gca()\n",
    "\n",
    "    ncols = len(df.columns) + 1\n",
    "    nrows = len(df.index) + 1\n",
    "\n",
    "    dx = dy = width / ncols\n",
    "\n",
    "    if linestyle is None:\n",
    "        linestyle = {'color':'black'}\n",
    "\n",
    "    if textstyle is None:\n",
    "        textstyle = {'size': 12}\n",
    "\n",
    "    textstyle.update({'ha':'center', 'va':'center'})\n",
    "\n",
    "    # draw vertical lines\n",
    "    for i in range(ncols + 1):\n",
    "        plt.plot(2 * [x + i * dx], [y, y + dy * nrows], **linestyle)\n",
    "\n",
    "    # draw horizontal lines\n",
    "    for i in range(nrows + 1):\n",
    "        plt.plot([x, x + dx * ncols], 2 * [y + i * dy], **linestyle)\n",
    "\n",
    "    # Create index labels\n",
    "    for i in range(nrows - 1):\n",
    "        plt.text(x + 0.5 * dx, y + (i + 0.5) * dy,\n",
    "                 str(df.index[::-1][i]), **textstyle)\n",
    "\n",
    "    # Create column labels\n",
    "    for i in range(ncols - 1):\n",
    "        plt.text(x + (i + 1.5) * dx, y + (nrows - 0.5) * dy,\n",
    "                 str(df.columns[i]), style='italic', **textstyle)\n",
    "        \n",
    "    # Add index label\n",
    "    if df.index.name:\n",
    "        plt.text(x + 0.5 * dx, y + (nrows - 0.5) * dy,\n",
    "                 str(df.index.name), style='italic', **textstyle)\n",
    "\n",
    "    # Insert data\n",
    "    for i in range(nrows - 1):\n",
    "        for j in range(ncols - 1):\n",
    "            plt.text(x + (j + 1.5) * dx,\n",
    "                     y + (i + 0.5) * dy,\n",
    "                     str(df.values[::-1][i, j]), **textstyle)\n",
    "\n",
    "\n",
    "#----------------------------------------------------------\n",
    "# Draw figure\n",
    "import matplotlib.pyplot as plt\n",
    "import pandas as pd\n",
    "%matplotlib inline\n",
    "\n",
    "df = pd.DataFrame({'data': [1, 2, 3, 4, 5, 6]},\n",
    "                   index=['A', 'B', 'C', 'A', 'B', 'C'])\n",
    "df.index.name = 'key'\n",
    "\n",
    "\n",
    "fig = plt.figure(figsize=(8, 6), facecolor='white')\n",
    "ax = plt.axes([0, 0, 1, 1])\n",
    "\n",
    "ax.axis('off')\n",
    "\n",
    "draw_dataframe(df, [0, 0])\n",
    "\n",
    "for y, ind in zip([3, 1, -1], 'ABC'):\n",
    "    split = df[df.index == ind]\n",
    "    draw_dataframe(split, [2, y])\n",
    "\n",
    "    sum = pd.DataFrame(split.sum()).T\n",
    "    sum.index = [ind]\n",
    "    sum.index.name = 'key'\n",
    "    sum.columns = ['data']\n",
    "    draw_dataframe(sum, [4, y + 0.25])\n",
    "    \n",
    "result = df.groupby(df.index).sum()\n",
    "draw_dataframe(result, [6, 0.75])\n",
    "\n",
    "style = dict(fontsize=14, ha='center', weight='bold')\n",
    "plt.text(0.5, 3.6, \"Input\", **style)\n",
    "plt.text(2.5, 4.6, \"Split\", **style)\n",
    "plt.text(4.5, 4.35, \"Apply (sum)\", **style)\n",
    "plt.text(6.5, 2.85, \"Combine\", **style)\n",
    "\n",
    "arrowprops = dict(facecolor='black', width=1, headwidth=6)\n",
    "plt.annotate('', (1.8, 3.6), (1.2, 2.8), arrowprops=arrowprops)\n",
    "plt.annotate('', (1.8, 1.75), (1.2, 1.75), arrowprops=arrowprops)\n",
    "plt.annotate('', (1.8, -0.1), (1.2, 0.7), arrowprops=arrowprops)\n",
    "\n",
    "plt.annotate('', (3.8, 3.8), (3.2, 3.8), arrowprops=arrowprops)\n",
    "plt.annotate('', (3.8, 1.75), (3.2, 1.75), arrowprops=arrowprops)\n",
    "plt.annotate('', (3.8, -0.3), (3.2, -0.3), arrowprops=arrowprops)\n",
    "\n",
    "plt.annotate('', (5.8, 2.8), (5.2, 3.6), arrowprops=arrowprops)\n",
    "plt.annotate('', (5.8, 1.75), (5.2, 1.75), arrowprops=arrowprops)\n",
    "plt.annotate('', (5.8, 0.7), (5.2, -0.1), arrowprops=arrowprops)\n",
    "    \n",
    "plt.axis('equal')\n",
    "plt.ylim(-1.5, 5);"
   ]
  },
  {
   "cell_type": "code",
   "execution_count": 24,
   "metadata": {
    "colab": {
     "base_uri": "https://localhost:8080/",
     "height": 139
    },
    "colab_type": "code",
    "id": "0XZqo-APL9Pc",
    "outputId": "755b947e-1e1a-49fc-9d9a-92fe27f3ed1b"
   },
   "outputs": [
    {
     "data": {
      "text/plain": [
       "religious\n",
       "1     48\n",
       "2    164\n",
       "3    129\n",
       "4    190\n",
       "5     70\n",
       "dtype: int64"
      ]
     },
     "execution_count": 24,
     "metadata": {},
     "output_type": "execute_result"
    }
   ],
   "source": [
    "affairs.groupby('religious').size()"
   ]
  },
  {
   "cell_type": "code",
   "execution_count": 25,
   "metadata": {
    "colab": {
     "base_uri": "https://localhost:8080/",
     "height": 233
    },
    "colab_type": "code",
    "id": "mPQuPAstD06N",
    "outputId": "e7ad72a0-0399-43e4-e5c2-9bb9377240e1"
   },
   "outputs": [
    {
     "data": {
      "text/html": [
       "<div>\n",
       "<style scoped>\n",
       "    .dataframe tbody tr th:only-of-type {\n",
       "        vertical-align: middle;\n",
       "    }\n",
       "\n",
       "    .dataframe tbody tr th {\n",
       "        vertical-align: top;\n",
       "    }\n",
       "\n",
       "    .dataframe thead th {\n",
       "        text-align: right;\n",
       "    }\n",
       "</style>\n",
       "<table border=\"1\" class=\"dataframe\">\n",
       "  <thead>\n",
       "    <tr style=\"text-align: right;\">\n",
       "      <th></th>\n",
       "      <th>Unnamed: 0</th>\n",
       "      <th>age</th>\n",
       "      <th>ym</th>\n",
       "      <th>education</th>\n",
       "      <th>occupation</th>\n",
       "      <th>rate</th>\n",
       "      <th>nbaffairs</th>\n",
       "      <th>below_30</th>\n",
       "      <th>affbw_30</th>\n",
       "    </tr>\n",
       "    <tr>\n",
       "      <th>religious</th>\n",
       "      <th></th>\n",
       "      <th></th>\n",
       "      <th></th>\n",
       "      <th></th>\n",
       "      <th></th>\n",
       "      <th></th>\n",
       "      <th></th>\n",
       "      <th></th>\n",
       "      <th></th>\n",
       "    </tr>\n",
       "  </thead>\n",
       "  <tbody>\n",
       "    <tr>\n",
       "      <th>1</th>\n",
       "      <td>340.937500</td>\n",
       "      <td>30.437500</td>\n",
       "      <td>6.900188</td>\n",
       "      <td>16.416667</td>\n",
       "      <td>4.375000</td>\n",
       "      <td>4.166667</td>\n",
       "      <td>2.583333</td>\n",
       "      <td>0.562500</td>\n",
       "      <td>0.208333</td>\n",
       "    </tr>\n",
       "    <tr>\n",
       "      <th>2</th>\n",
       "      <td>306.243902</td>\n",
       "      <td>31.003049</td>\n",
       "      <td>6.748476</td>\n",
       "      <td>16.359756</td>\n",
       "      <td>4.378049</td>\n",
       "      <td>3.823171</td>\n",
       "      <td>1.652439</td>\n",
       "      <td>0.536585</td>\n",
       "      <td>0.097561</td>\n",
       "    </tr>\n",
       "    <tr>\n",
       "      <th>3</th>\n",
       "      <td>330.162791</td>\n",
       "      <td>31.073643</td>\n",
       "      <td>7.797488</td>\n",
       "      <td>16.000000</td>\n",
       "      <td>3.992248</td>\n",
       "      <td>3.844961</td>\n",
       "      <td>1.976744</td>\n",
       "      <td>0.503876</td>\n",
       "      <td>0.124031</td>\n",
       "    </tr>\n",
       "    <tr>\n",
       "      <th>4</th>\n",
       "      <td>282.010526</td>\n",
       "      <td>33.686842</td>\n",
       "      <td>9.202637</td>\n",
       "      <td>16.015789</td>\n",
       "      <td>4.078947</td>\n",
       "      <td>3.994737</td>\n",
       "      <td>0.857895</td>\n",
       "      <td>0.400000</td>\n",
       "      <td>0.047368</td>\n",
       "    </tr>\n",
       "    <tr>\n",
       "      <th>5</th>\n",
       "      <td>259.128571</td>\n",
       "      <td>36.721429</td>\n",
       "      <td>10.320843</td>\n",
       "      <td>16.257143</td>\n",
       "      <td>4.328571</td>\n",
       "      <td>4.014286</td>\n",
       "      <td>0.885714</td>\n",
       "      <td>0.285714</td>\n",
       "      <td>0.057143</td>\n",
       "    </tr>\n",
       "  </tbody>\n",
       "</table>\n",
       "</div>"
      ],
      "text/plain": [
       "           Unnamed: 0        age         ym  education  occupation      rate  \\\n",
       "religious                                                                      \n",
       "1          340.937500  30.437500   6.900188  16.416667    4.375000  4.166667   \n",
       "2          306.243902  31.003049   6.748476  16.359756    4.378049  3.823171   \n",
       "3          330.162791  31.073643   7.797488  16.000000    3.992248  3.844961   \n",
       "4          282.010526  33.686842   9.202637  16.015789    4.078947  3.994737   \n",
       "5          259.128571  36.721429  10.320843  16.257143    4.328571  4.014286   \n",
       "\n",
       "           nbaffairs  below_30  affbw_30  \n",
       "religious                                 \n",
       "1           2.583333  0.562500  0.208333  \n",
       "2           1.652439  0.536585  0.097561  \n",
       "3           1.976744  0.503876  0.124031  \n",
       "4           0.857895  0.400000  0.047368  \n",
       "5           0.885714  0.285714  0.057143  "
      ]
     },
     "execution_count": 25,
     "metadata": {},
     "output_type": "execute_result"
    }
   ],
   "source": [
    "affairs.groupby('religious').mean()"
   ]
  },
  {
   "cell_type": "code",
   "execution_count": 26,
   "metadata": {
    "colab": {
     "base_uri": "https://localhost:8080/",
     "height": 173
    },
    "colab_type": "code",
    "id": "xy5vz5Y3MUse",
    "outputId": "8e3b252a-d076-4639-dddb-b2384bdd0841"
   },
   "outputs": [
    {
     "data": {
      "text/plain": [
       "occupation\n",
       "1    113\n",
       "2     13\n",
       "3     47\n",
       "4     68\n",
       "5    204\n",
       "6    143\n",
       "7     13\n",
       "dtype: int64"
      ]
     },
     "execution_count": 26,
     "metadata": {},
     "output_type": "execute_result"
    }
   ],
   "source": [
    "affairs.groupby('occupation').size()"
   ]
  },
  {
   "cell_type": "code",
   "execution_count": 27,
   "metadata": {
    "colab": {
     "base_uri": "https://localhost:8080/",
     "height": 294
    },
    "colab_type": "code",
    "id": "RmQxtX4rIxof",
    "outputId": "c0b1308d-de6b-4faa-8d55-6b56261b9a58"
   },
   "outputs": [
    {
     "data": {
      "text/html": [
       "<div>\n",
       "<style scoped>\n",
       "    .dataframe tbody tr th:only-of-type {\n",
       "        vertical-align: middle;\n",
       "    }\n",
       "\n",
       "    .dataframe tbody tr th {\n",
       "        vertical-align: top;\n",
       "    }\n",
       "\n",
       "    .dataframe thead th {\n",
       "        text-align: right;\n",
       "    }\n",
       "</style>\n",
       "<table border=\"1\" class=\"dataframe\">\n",
       "  <thead>\n",
       "    <tr style=\"text-align: right;\">\n",
       "      <th></th>\n",
       "      <th>Unnamed: 0</th>\n",
       "      <th>age</th>\n",
       "      <th>ym</th>\n",
       "      <th>religious</th>\n",
       "      <th>education</th>\n",
       "      <th>rate</th>\n",
       "      <th>nbaffairs</th>\n",
       "      <th>below_30</th>\n",
       "      <th>affbw_30</th>\n",
       "    </tr>\n",
       "    <tr>\n",
       "      <th>occupation</th>\n",
       "      <th></th>\n",
       "      <th></th>\n",
       "      <th></th>\n",
       "      <th></th>\n",
       "      <th></th>\n",
       "      <th></th>\n",
       "      <th></th>\n",
       "      <th></th>\n",
       "      <th></th>\n",
       "    </tr>\n",
       "  </thead>\n",
       "  <tbody>\n",
       "    <tr>\n",
       "      <th>1</th>\n",
       "      <td>310.008850</td>\n",
       "      <td>30.676991</td>\n",
       "      <td>8.695434</td>\n",
       "      <td>3.292035</td>\n",
       "      <td>14.557522</td>\n",
       "      <td>3.876106</td>\n",
       "      <td>1.168142</td>\n",
       "      <td>0.522124</td>\n",
       "      <td>0.088496</td>\n",
       "    </tr>\n",
       "    <tr>\n",
       "      <th>2</th>\n",
       "      <td>316.307692</td>\n",
       "      <td>33.923077</td>\n",
       "      <td>7.019231</td>\n",
       "      <td>3.307692</td>\n",
       "      <td>13.153846</td>\n",
       "      <td>4.076923</td>\n",
       "      <td>0.230769</td>\n",
       "      <td>0.615385</td>\n",
       "      <td>0.153846</td>\n",
       "    </tr>\n",
       "    <tr>\n",
       "      <th>3</th>\n",
       "      <td>330.702128</td>\n",
       "      <td>29.563830</td>\n",
       "      <td>6.449489</td>\n",
       "      <td>2.744681</td>\n",
       "      <td>14.276596</td>\n",
       "      <td>3.638298</td>\n",
       "      <td>1.829787</td>\n",
       "      <td>0.595745</td>\n",
       "      <td>0.234043</td>\n",
       "    </tr>\n",
       "    <tr>\n",
       "      <th>4</th>\n",
       "      <td>341.750000</td>\n",
       "      <td>31.205882</td>\n",
       "      <td>7.090691</td>\n",
       "      <td>3.235294</td>\n",
       "      <td>15.264706</td>\n",
       "      <td>4.000000</td>\n",
       "      <td>1.455882</td>\n",
       "      <td>0.514706</td>\n",
       "      <td>0.073529</td>\n",
       "    </tr>\n",
       "    <tr>\n",
       "      <th>5</th>\n",
       "      <td>288.161765</td>\n",
       "      <td>32.125000</td>\n",
       "      <td>7.781662</td>\n",
       "      <td>3.009804</td>\n",
       "      <td>16.495098</td>\n",
       "      <td>4.049020</td>\n",
       "      <td>1.436275</td>\n",
       "      <td>0.485294</td>\n",
       "      <td>0.073529</td>\n",
       "    </tr>\n",
       "    <tr>\n",
       "      <th>6</th>\n",
       "      <td>282.412587</td>\n",
       "      <td>35.325175</td>\n",
       "      <td>9.305657</td>\n",
       "      <td>3.174825</td>\n",
       "      <td>18.209790</td>\n",
       "      <td>3.937063</td>\n",
       "      <td>1.692308</td>\n",
       "      <td>0.314685</td>\n",
       "      <td>0.069930</td>\n",
       "    </tr>\n",
       "    <tr>\n",
       "      <th>7</th>\n",
       "      <td>292.769231</td>\n",
       "      <td>38.538462</td>\n",
       "      <td>10.576923</td>\n",
       "      <td>3.153846</td>\n",
       "      <td>17.076923</td>\n",
       "      <td>3.076923</td>\n",
       "      <td>1.538462</td>\n",
       "      <td>0.153846</td>\n",
       "      <td>0.153846</td>\n",
       "    </tr>\n",
       "  </tbody>\n",
       "</table>\n",
       "</div>"
      ],
      "text/plain": [
       "            Unnamed: 0        age         ym  religious  education      rate  \\\n",
       "occupation                                                                     \n",
       "1           310.008850  30.676991   8.695434   3.292035  14.557522  3.876106   \n",
       "2           316.307692  33.923077   7.019231   3.307692  13.153846  4.076923   \n",
       "3           330.702128  29.563830   6.449489   2.744681  14.276596  3.638298   \n",
       "4           341.750000  31.205882   7.090691   3.235294  15.264706  4.000000   \n",
       "5           288.161765  32.125000   7.781662   3.009804  16.495098  4.049020   \n",
       "6           282.412587  35.325175   9.305657   3.174825  18.209790  3.937063   \n",
       "7           292.769231  38.538462  10.576923   3.153846  17.076923  3.076923   \n",
       "\n",
       "            nbaffairs  below_30  affbw_30  \n",
       "occupation                                 \n",
       "1            1.168142  0.522124  0.088496  \n",
       "2            0.230769  0.615385  0.153846  \n",
       "3            1.829787  0.595745  0.234043  \n",
       "4            1.455882  0.514706  0.073529  \n",
       "5            1.436275  0.485294  0.073529  \n",
       "6            1.692308  0.314685  0.069930  \n",
       "7            1.538462  0.153846  0.153846  "
      ]
     },
     "execution_count": 27,
     "metadata": {},
     "output_type": "execute_result"
    }
   ],
   "source": [
    "affairs.groupby('occupation').mean()"
   ]
  },
  {
   "cell_type": "code",
   "execution_count": 28,
   "metadata": {
    "colab": {
     "base_uri": "https://localhost:8080/",
     "height": 225
    },
    "colab_type": "code",
    "id": "JtAT05BZMbDU",
    "outputId": "c9116762-3b84-45fb-c225-85d69edc022d"
   },
   "outputs": [
    {
     "data": {
      "text/plain": [
       "sex     rate\n",
       "female  1        11\n",
       "        2        35\n",
       "        3        46\n",
       "        4        93\n",
       "        5       130\n",
       "male    1         5\n",
       "        2        31\n",
       "        3        47\n",
       "        4       101\n",
       "        5       102\n",
       "dtype: int64"
      ]
     },
     "execution_count": 28,
     "metadata": {},
     "output_type": "execute_result"
    }
   ],
   "source": [
    "affairs.groupby(['sex','rate']).size()"
   ]
  },
  {
   "cell_type": "code",
   "execution_count": 29,
   "metadata": {
    "colab": {
     "base_uri": "https://localhost:8080/",
     "height": 386
    },
    "colab_type": "code",
    "id": "clunHUFJKvNX",
    "outputId": "7445c7f3-30bf-4cc6-d2c8-c08a9a89ae4a"
   },
   "outputs": [
    {
     "data": {
      "text/html": [
       "<div>\n",
       "<style scoped>\n",
       "    .dataframe tbody tr th:only-of-type {\n",
       "        vertical-align: middle;\n",
       "    }\n",
       "\n",
       "    .dataframe tbody tr th {\n",
       "        vertical-align: top;\n",
       "    }\n",
       "\n",
       "    .dataframe thead th {\n",
       "        text-align: right;\n",
       "    }\n",
       "</style>\n",
       "<table border=\"1\" class=\"dataframe\">\n",
       "  <thead>\n",
       "    <tr style=\"text-align: right;\">\n",
       "      <th></th>\n",
       "      <th></th>\n",
       "      <th>Unnamed: 0</th>\n",
       "      <th>age</th>\n",
       "      <th>ym</th>\n",
       "      <th>religious</th>\n",
       "      <th>education</th>\n",
       "      <th>occupation</th>\n",
       "      <th>nbaffairs</th>\n",
       "      <th>below_30</th>\n",
       "      <th>affbw_30</th>\n",
       "    </tr>\n",
       "    <tr>\n",
       "      <th>sex</th>\n",
       "      <th>rate</th>\n",
       "      <th></th>\n",
       "      <th></th>\n",
       "      <th></th>\n",
       "      <th></th>\n",
       "      <th></th>\n",
       "      <th></th>\n",
       "      <th></th>\n",
       "      <th></th>\n",
       "      <th></th>\n",
       "    </tr>\n",
       "  </thead>\n",
       "  <tbody>\n",
       "    <tr>\n",
       "      <th rowspan=\"5\" valign=\"top\">female</th>\n",
       "      <th>1</th>\n",
       "      <td>350.272727</td>\n",
       "      <td>35.636364</td>\n",
       "      <td>12.272727</td>\n",
       "      <td>3.000000</td>\n",
       "      <td>13.909091</td>\n",
       "      <td>3.181818</td>\n",
       "      <td>4.545455</td>\n",
       "      <td>0.272727</td>\n",
       "      <td>0.090909</td>\n",
       "    </tr>\n",
       "    <tr>\n",
       "      <th>2</th>\n",
       "      <td>372.085714</td>\n",
       "      <td>34.000000</td>\n",
       "      <td>10.485714</td>\n",
       "      <td>3.114286</td>\n",
       "      <td>14.771429</td>\n",
       "      <td>3.142857</td>\n",
       "      <td>3.371429</td>\n",
       "      <td>0.400000</td>\n",
       "      <td>0.114286</td>\n",
       "    </tr>\n",
       "    <tr>\n",
       "      <th>3</th>\n",
       "      <td>340.326087</td>\n",
       "      <td>32.119565</td>\n",
       "      <td>8.720109</td>\n",
       "      <td>3.152174</td>\n",
       "      <td>14.913043</td>\n",
       "      <td>3.195652</td>\n",
       "      <td>1.782609</td>\n",
       "      <td>0.434783</td>\n",
       "      <td>0.195652</td>\n",
       "    </tr>\n",
       "    <tr>\n",
       "      <th>4</th>\n",
       "      <td>278.462366</td>\n",
       "      <td>32.112903</td>\n",
       "      <td>9.285849</td>\n",
       "      <td>3.161290</td>\n",
       "      <td>15.451613</td>\n",
       "      <td>3.483871</td>\n",
       "      <td>0.967742</td>\n",
       "      <td>0.462366</td>\n",
       "      <td>0.053763</td>\n",
       "    </tr>\n",
       "    <tr>\n",
       "      <th>5</th>\n",
       "      <td>271.853846</td>\n",
       "      <td>28.126923</td>\n",
       "      <td>5.835908</td>\n",
       "      <td>3.061538</td>\n",
       "      <td>15.484615</td>\n",
       "      <td>3.461538</td>\n",
       "      <td>0.823077</td>\n",
       "      <td>0.676923</td>\n",
       "      <td>0.084615</td>\n",
       "    </tr>\n",
       "    <tr>\n",
       "      <th rowspan=\"5\" valign=\"top\">male</th>\n",
       "      <th>1</th>\n",
       "      <td>418.400000</td>\n",
       "      <td>45.000000</td>\n",
       "      <td>13.400000</td>\n",
       "      <td>3.200000</td>\n",
       "      <td>15.600000</td>\n",
       "      <td>4.800000</td>\n",
       "      <td>2.400000</td>\n",
       "      <td>0.000000</td>\n",
       "      <td>0.000000</td>\n",
       "    </tr>\n",
       "    <tr>\n",
       "      <th>2</th>\n",
       "      <td>404.806452</td>\n",
       "      <td>36.354839</td>\n",
       "      <td>9.423387</td>\n",
       "      <td>2.838710</td>\n",
       "      <td>16.967742</td>\n",
       "      <td>5.258065</td>\n",
       "      <td>4.548387</td>\n",
       "      <td>0.322581</td>\n",
       "      <td>0.193548</td>\n",
       "    </tr>\n",
       "    <tr>\n",
       "      <th>3</th>\n",
       "      <td>286.234043</td>\n",
       "      <td>33.808511</td>\n",
       "      <td>8.638298</td>\n",
       "      <td>3.212766</td>\n",
       "      <td>16.787234</td>\n",
       "      <td>5.148936</td>\n",
       "      <td>1.085106</td>\n",
       "      <td>0.361702</td>\n",
       "      <td>0.042553</td>\n",
       "    </tr>\n",
       "    <tr>\n",
       "      <th>4</th>\n",
       "      <td>307.524752</td>\n",
       "      <td>35.069307</td>\n",
       "      <td>8.746713</td>\n",
       "      <td>3.059406</td>\n",
       "      <td>17.475248</td>\n",
       "      <td>5.099010</td>\n",
       "      <td>1.623762</td>\n",
       "      <td>0.336634</td>\n",
       "      <td>0.099010</td>\n",
       "    </tr>\n",
       "    <tr>\n",
       "      <th>5</th>\n",
       "      <td>274.294118</td>\n",
       "      <td>32.740196</td>\n",
       "      <td>7.263480</td>\n",
       "      <td>3.235294</td>\n",
       "      <td>17.176471</td>\n",
       "      <td>5.009804</td>\n",
       "      <td>0.588235</td>\n",
       "      <td>0.460784</td>\n",
       "      <td>0.068627</td>\n",
       "    </tr>\n",
       "  </tbody>\n",
       "</table>\n",
       "</div>"
      ],
      "text/plain": [
       "             Unnamed: 0        age         ym  religious  education  \\\n",
       "sex    rate                                                           \n",
       "female 1     350.272727  35.636364  12.272727   3.000000  13.909091   \n",
       "       2     372.085714  34.000000  10.485714   3.114286  14.771429   \n",
       "       3     340.326087  32.119565   8.720109   3.152174  14.913043   \n",
       "       4     278.462366  32.112903   9.285849   3.161290  15.451613   \n",
       "       5     271.853846  28.126923   5.835908   3.061538  15.484615   \n",
       "male   1     418.400000  45.000000  13.400000   3.200000  15.600000   \n",
       "       2     404.806452  36.354839   9.423387   2.838710  16.967742   \n",
       "       3     286.234043  33.808511   8.638298   3.212766  16.787234   \n",
       "       4     307.524752  35.069307   8.746713   3.059406  17.475248   \n",
       "       5     274.294118  32.740196   7.263480   3.235294  17.176471   \n",
       "\n",
       "             occupation  nbaffairs  below_30  affbw_30  \n",
       "sex    rate                                             \n",
       "female 1       3.181818   4.545455  0.272727  0.090909  \n",
       "       2       3.142857   3.371429  0.400000  0.114286  \n",
       "       3       3.195652   1.782609  0.434783  0.195652  \n",
       "       4       3.483871   0.967742  0.462366  0.053763  \n",
       "       5       3.461538   0.823077  0.676923  0.084615  \n",
       "male   1       4.800000   2.400000  0.000000  0.000000  \n",
       "       2       5.258065   4.548387  0.322581  0.193548  \n",
       "       3       5.148936   1.085106  0.361702  0.042553  \n",
       "       4       5.099010   1.623762  0.336634  0.099010  \n",
       "       5       5.009804   0.588235  0.460784  0.068627  "
      ]
     },
     "execution_count": 29,
     "metadata": {},
     "output_type": "execute_result"
    }
   ],
   "source": [
    "affairs.groupby(['sex','rate']).mean()"
   ]
  },
  {
   "cell_type": "code",
   "execution_count": 30,
   "metadata": {
    "colab": {
     "base_uri": "https://localhost:8080/",
     "height": 294
    },
    "colab_type": "code",
    "id": "UmoJUbgpJPjR",
    "outputId": "cf2d6939-d685-489a-cd79-7693d8308917"
   },
   "outputs": [
    {
     "data": {
      "text/html": [
       "<div>\n",
       "<style scoped>\n",
       "    .dataframe tbody tr th:only-of-type {\n",
       "        vertical-align: middle;\n",
       "    }\n",
       "\n",
       "    .dataframe tbody tr th {\n",
       "        vertical-align: top;\n",
       "    }\n",
       "\n",
       "    .dataframe thead th {\n",
       "        text-align: right;\n",
       "    }\n",
       "</style>\n",
       "<table border=\"1\" class=\"dataframe\">\n",
       "  <thead>\n",
       "    <tr style=\"text-align: right;\">\n",
       "      <th></th>\n",
       "      <th>Unnamed: 0</th>\n",
       "      <th>age</th>\n",
       "      <th>ym</th>\n",
       "      <th>religious</th>\n",
       "      <th>education</th>\n",
       "      <th>rate</th>\n",
       "      <th>nbaffairs</th>\n",
       "      <th>below_30</th>\n",
       "      <th>affbw_30</th>\n",
       "    </tr>\n",
       "    <tr>\n",
       "      <th>occupation</th>\n",
       "      <th></th>\n",
       "      <th></th>\n",
       "      <th></th>\n",
       "      <th></th>\n",
       "      <th></th>\n",
       "      <th></th>\n",
       "      <th></th>\n",
       "      <th></th>\n",
       "      <th></th>\n",
       "    </tr>\n",
       "  </thead>\n",
       "  <tbody>\n",
       "    <tr>\n",
       "      <th>1</th>\n",
       "      <td>334.0</td>\n",
       "      <td>27.0</td>\n",
       "      <td>7.0</td>\n",
       "      <td>3.0</td>\n",
       "      <td>14.0</td>\n",
       "      <td>4.0</td>\n",
       "      <td>0.0</td>\n",
       "      <td>True</td>\n",
       "      <td>False</td>\n",
       "    </tr>\n",
       "    <tr>\n",
       "      <th>2</th>\n",
       "      <td>259.0</td>\n",
       "      <td>27.0</td>\n",
       "      <td>4.0</td>\n",
       "      <td>4.0</td>\n",
       "      <td>14.0</td>\n",
       "      <td>4.0</td>\n",
       "      <td>0.0</td>\n",
       "      <td>True</td>\n",
       "      <td>False</td>\n",
       "    </tr>\n",
       "    <tr>\n",
       "      <th>3</th>\n",
       "      <td>325.0</td>\n",
       "      <td>27.0</td>\n",
       "      <td>4.0</td>\n",
       "      <td>3.0</td>\n",
       "      <td>14.0</td>\n",
       "      <td>4.0</td>\n",
       "      <td>0.0</td>\n",
       "      <td>True</td>\n",
       "      <td>False</td>\n",
       "    </tr>\n",
       "    <tr>\n",
       "      <th>4</th>\n",
       "      <td>348.0</td>\n",
       "      <td>27.0</td>\n",
       "      <td>7.0</td>\n",
       "      <td>3.0</td>\n",
       "      <td>14.0</td>\n",
       "      <td>4.0</td>\n",
       "      <td>0.0</td>\n",
       "      <td>True</td>\n",
       "      <td>False</td>\n",
       "    </tr>\n",
       "    <tr>\n",
       "      <th>5</th>\n",
       "      <td>275.5</td>\n",
       "      <td>32.0</td>\n",
       "      <td>7.0</td>\n",
       "      <td>3.0</td>\n",
       "      <td>17.0</td>\n",
       "      <td>4.0</td>\n",
       "      <td>0.0</td>\n",
       "      <td>False</td>\n",
       "      <td>False</td>\n",
       "    </tr>\n",
       "    <tr>\n",
       "      <th>6</th>\n",
       "      <td>258.0</td>\n",
       "      <td>37.0</td>\n",
       "      <td>10.0</td>\n",
       "      <td>3.0</td>\n",
       "      <td>18.0</td>\n",
       "      <td>4.0</td>\n",
       "      <td>0.0</td>\n",
       "      <td>False</td>\n",
       "      <td>False</td>\n",
       "    </tr>\n",
       "    <tr>\n",
       "      <th>7</th>\n",
       "      <td>318.0</td>\n",
       "      <td>37.0</td>\n",
       "      <td>10.0</td>\n",
       "      <td>3.0</td>\n",
       "      <td>18.0</td>\n",
       "      <td>3.0</td>\n",
       "      <td>0.0</td>\n",
       "      <td>False</td>\n",
       "      <td>False</td>\n",
       "    </tr>\n",
       "  </tbody>\n",
       "</table>\n",
       "</div>"
      ],
      "text/plain": [
       "            Unnamed: 0   age    ym  religious  education  rate  nbaffairs  \\\n",
       "occupation                                                                  \n",
       "1                334.0  27.0   7.0        3.0       14.0   4.0        0.0   \n",
       "2                259.0  27.0   4.0        4.0       14.0   4.0        0.0   \n",
       "3                325.0  27.0   4.0        3.0       14.0   4.0        0.0   \n",
       "4                348.0  27.0   7.0        3.0       14.0   4.0        0.0   \n",
       "5                275.5  32.0   7.0        3.0       17.0   4.0        0.0   \n",
       "6                258.0  37.0  10.0        3.0       18.0   4.0        0.0   \n",
       "7                318.0  37.0  10.0        3.0       18.0   3.0        0.0   \n",
       "\n",
       "            below_30  affbw_30  \n",
       "occupation                      \n",
       "1               True     False  \n",
       "2               True     False  \n",
       "3               True     False  \n",
       "4               True     False  \n",
       "5              False     False  \n",
       "6              False     False  \n",
       "7              False     False  "
      ]
     },
     "execution_count": 30,
     "metadata": {},
     "output_type": "execute_result"
    }
   ],
   "source": [
    "affairs.groupby('occupation').median()"
   ]
  },
  {
   "cell_type": "markdown",
   "metadata": {
    "colab_type": "text",
    "id": "HtX6RaKrO7Gq"
   },
   "source": [
    "## Variance\n",
    "\n",
    "- Given a  probability distribution function $P$ of a discrete random variable $X$, defined on a countable set $D$, the variance of $X$ is given by:\n",
    "$$\n",
    "Var[X] = \\sum\\limits_{x\\in D} P(x)(x - E[X])^2\n",
    "$$\n",
    "\n"
   ]
  },
  {
   "cell_type": "code",
   "execution_count": 31,
   "metadata": {
    "colab": {
     "base_uri": "https://localhost:8080/",
     "height": 294
    },
    "colab_type": "code",
    "id": "wbn4hsyGI9IM",
    "outputId": "7fc46598-d654-451a-a49f-669a4fa6dab1"
   },
   "outputs": [
    {
     "data": {
      "text/html": [
       "<div>\n",
       "<style scoped>\n",
       "    .dataframe tbody tr th:only-of-type {\n",
       "        vertical-align: middle;\n",
       "    }\n",
       "\n",
       "    .dataframe tbody tr th {\n",
       "        vertical-align: top;\n",
       "    }\n",
       "\n",
       "    .dataframe thead th {\n",
       "        text-align: right;\n",
       "    }\n",
       "</style>\n",
       "<table border=\"1\" class=\"dataframe\">\n",
       "  <thead>\n",
       "    <tr style=\"text-align: right;\">\n",
       "      <th></th>\n",
       "      <th>Unnamed: 0</th>\n",
       "      <th>age</th>\n",
       "      <th>ym</th>\n",
       "      <th>religious</th>\n",
       "      <th>education</th>\n",
       "      <th>rate</th>\n",
       "      <th>nbaffairs</th>\n",
       "      <th>below_30</th>\n",
       "      <th>affbw_30</th>\n",
       "    </tr>\n",
       "    <tr>\n",
       "      <th>occupation</th>\n",
       "      <th></th>\n",
       "      <th></th>\n",
       "      <th></th>\n",
       "      <th></th>\n",
       "      <th></th>\n",
       "      <th></th>\n",
       "      <th></th>\n",
       "      <th></th>\n",
       "      <th></th>\n",
       "    </tr>\n",
       "  </thead>\n",
       "  <tbody>\n",
       "    <tr>\n",
       "      <th>1</th>\n",
       "      <td>24726.865992</td>\n",
       "      <td>59.709466</td>\n",
       "      <td>26.509298</td>\n",
       "      <td>1.101454</td>\n",
       "      <td>3.713180</td>\n",
       "      <td>1.359513</td>\n",
       "      <td>9.301833</td>\n",
       "      <td>0.251738</td>\n",
       "      <td>0.081384</td>\n",
       "    </tr>\n",
       "    <tr>\n",
       "      <th>2</th>\n",
       "      <td>24498.064103</td>\n",
       "      <td>193.910256</td>\n",
       "      <td>34.400641</td>\n",
       "      <td>1.397436</td>\n",
       "      <td>6.141026</td>\n",
       "      <td>0.743590</td>\n",
       "      <td>0.192308</td>\n",
       "      <td>0.256410</td>\n",
       "      <td>0.141026</td>\n",
       "    </tr>\n",
       "    <tr>\n",
       "      <th>3</th>\n",
       "      <td>33315.952821</td>\n",
       "      <td>65.898011</td>\n",
       "      <td>34.876997</td>\n",
       "      <td>1.498612</td>\n",
       "      <td>3.074006</td>\n",
       "      <td>1.627197</td>\n",
       "      <td>12.100833</td>\n",
       "      <td>0.246068</td>\n",
       "      <td>0.183164</td>\n",
       "    </tr>\n",
       "    <tr>\n",
       "      <th>4</th>\n",
       "      <td>26710.279851</td>\n",
       "      <td>92.576383</td>\n",
       "      <td>31.222412</td>\n",
       "      <td>1.436348</td>\n",
       "      <td>4.913960</td>\n",
       "      <td>1.343284</td>\n",
       "      <td>10.132353</td>\n",
       "      <td>0.253512</td>\n",
       "      <td>0.069140</td>\n",
       "    </tr>\n",
       "    <tr>\n",
       "      <th>5</th>\n",
       "      <td>29022.490945</td>\n",
       "      <td>86.241687</td>\n",
       "      <td>32.229745</td>\n",
       "      <td>1.369362</td>\n",
       "      <td>3.443326</td>\n",
       "      <td>1.061625</td>\n",
       "      <td>11.764392</td>\n",
       "      <td>0.251014</td>\n",
       "      <td>0.068458</td>\n",
       "    </tr>\n",
       "    <tr>\n",
       "      <th>6</th>\n",
       "      <td>35377.131390</td>\n",
       "      <td>87.881193</td>\n",
       "      <td>29.632202</td>\n",
       "      <td>1.412883</td>\n",
       "      <td>3.040185</td>\n",
       "      <td>1.143898</td>\n",
       "      <td>12.228602</td>\n",
       "      <td>0.217177</td>\n",
       "      <td>0.065498</td>\n",
       "    </tr>\n",
       "    <tr>\n",
       "      <th>7</th>\n",
       "      <td>44913.692308</td>\n",
       "      <td>80.769231</td>\n",
       "      <td>19.826923</td>\n",
       "      <td>1.641026</td>\n",
       "      <td>9.076923</td>\n",
       "      <td>0.743590</td>\n",
       "      <td>6.769231</td>\n",
       "      <td>0.141026</td>\n",
       "      <td>0.141026</td>\n",
       "    </tr>\n",
       "  </tbody>\n",
       "</table>\n",
       "</div>"
      ],
      "text/plain": [
       "              Unnamed: 0         age         ym  religious  education  \\\n",
       "occupation                                                              \n",
       "1           24726.865992   59.709466  26.509298   1.101454   3.713180   \n",
       "2           24498.064103  193.910256  34.400641   1.397436   6.141026   \n",
       "3           33315.952821   65.898011  34.876997   1.498612   3.074006   \n",
       "4           26710.279851   92.576383  31.222412   1.436348   4.913960   \n",
       "5           29022.490945   86.241687  32.229745   1.369362   3.443326   \n",
       "6           35377.131390   87.881193  29.632202   1.412883   3.040185   \n",
       "7           44913.692308   80.769231  19.826923   1.641026   9.076923   \n",
       "\n",
       "                rate  nbaffairs  below_30  affbw_30  \n",
       "occupation                                           \n",
       "1           1.359513   9.301833  0.251738  0.081384  \n",
       "2           0.743590   0.192308  0.256410  0.141026  \n",
       "3           1.627197  12.100833  0.246068  0.183164  \n",
       "4           1.343284  10.132353  0.253512  0.069140  \n",
       "5           1.061625  11.764392  0.251014  0.068458  \n",
       "6           1.143898  12.228602  0.217177  0.065498  \n",
       "7           0.743590   6.769231  0.141026  0.141026  "
      ]
     },
     "execution_count": 31,
     "metadata": {},
     "output_type": "execute_result"
    }
   ],
   "source": [
    "affairs.groupby('occupation').var()"
   ]
  },
  {
   "cell_type": "code",
   "execution_count": 32,
   "metadata": {
    "colab": {
     "base_uri": "https://localhost:8080/",
     "height": 294
    },
    "colab_type": "code",
    "id": "NWJaencvRgl3",
    "outputId": "c7e3ec8a-641a-4958-f556-f0d3a425df3d"
   },
   "outputs": [
    {
     "data": {
      "text/html": [
       "<div>\n",
       "<style scoped>\n",
       "    .dataframe tbody tr th:only-of-type {\n",
       "        vertical-align: middle;\n",
       "    }\n",
       "\n",
       "    .dataframe tbody tr th {\n",
       "        vertical-align: top;\n",
       "    }\n",
       "\n",
       "    .dataframe thead th {\n",
       "        text-align: right;\n",
       "    }\n",
       "</style>\n",
       "<table border=\"1\" class=\"dataframe\">\n",
       "  <thead>\n",
       "    <tr style=\"text-align: right;\">\n",
       "      <th></th>\n",
       "      <th>Unnamed: 0</th>\n",
       "      <th>age</th>\n",
       "      <th>ym</th>\n",
       "      <th>religious</th>\n",
       "      <th>education</th>\n",
       "      <th>rate</th>\n",
       "      <th>nbaffairs</th>\n",
       "      <th>below_30</th>\n",
       "      <th>affbw_30</th>\n",
       "    </tr>\n",
       "    <tr>\n",
       "      <th>occupation</th>\n",
       "      <th></th>\n",
       "      <th></th>\n",
       "      <th></th>\n",
       "      <th></th>\n",
       "      <th></th>\n",
       "      <th></th>\n",
       "      <th></th>\n",
       "      <th></th>\n",
       "      <th></th>\n",
       "    </tr>\n",
       "  </thead>\n",
       "  <tbody>\n",
       "    <tr>\n",
       "      <th>1</th>\n",
       "      <td>157.247785</td>\n",
       "      <td>7.727190</td>\n",
       "      <td>5.148718</td>\n",
       "      <td>1.049502</td>\n",
       "      <td>1.926961</td>\n",
       "      <td>1.165982</td>\n",
       "      <td>3.049891</td>\n",
       "      <td>0.501735</td>\n",
       "      <td>0.285279</td>\n",
       "    </tr>\n",
       "    <tr>\n",
       "      <th>2</th>\n",
       "      <td>156.518574</td>\n",
       "      <td>13.925166</td>\n",
       "      <td>5.865206</td>\n",
       "      <td>1.182132</td>\n",
       "      <td>2.478109</td>\n",
       "      <td>0.862316</td>\n",
       "      <td>0.438529</td>\n",
       "      <td>0.506370</td>\n",
       "      <td>0.375534</td>\n",
       "    </tr>\n",
       "    <tr>\n",
       "      <th>3</th>\n",
       "      <td>182.526581</td>\n",
       "      <td>8.117759</td>\n",
       "      <td>5.905675</td>\n",
       "      <td>1.224178</td>\n",
       "      <td>1.753284</td>\n",
       "      <td>1.275616</td>\n",
       "      <td>3.478625</td>\n",
       "      <td>0.496053</td>\n",
       "      <td>0.427976</td>\n",
       "    </tr>\n",
       "    <tr>\n",
       "      <th>4</th>\n",
       "      <td>163.432799</td>\n",
       "      <td>9.621662</td>\n",
       "      <td>5.587702</td>\n",
       "      <td>1.198477</td>\n",
       "      <td>2.216745</td>\n",
       "      <td>1.159001</td>\n",
       "      <td>3.183136</td>\n",
       "      <td>0.503500</td>\n",
       "      <td>0.262944</td>\n",
       "    </tr>\n",
       "    <tr>\n",
       "      <th>5</th>\n",
       "      <td>170.359887</td>\n",
       "      <td>9.286640</td>\n",
       "      <td>5.677125</td>\n",
       "      <td>1.170197</td>\n",
       "      <td>1.855620</td>\n",
       "      <td>1.030352</td>\n",
       "      <td>3.429926</td>\n",
       "      <td>0.501013</td>\n",
       "      <td>0.261646</td>\n",
       "    </tr>\n",
       "    <tr>\n",
       "      <th>6</th>\n",
       "      <td>188.088095</td>\n",
       "      <td>9.374497</td>\n",
       "      <td>5.443547</td>\n",
       "      <td>1.188648</td>\n",
       "      <td>1.743613</td>\n",
       "      <td>1.069532</td>\n",
       "      <td>3.496942</td>\n",
       "      <td>0.466023</td>\n",
       "      <td>0.255926</td>\n",
       "    </tr>\n",
       "    <tr>\n",
       "      <th>7</th>\n",
       "      <td>211.928508</td>\n",
       "      <td>8.987170</td>\n",
       "      <td>4.452743</td>\n",
       "      <td>1.281025</td>\n",
       "      <td>3.012793</td>\n",
       "      <td>0.862316</td>\n",
       "      <td>2.601775</td>\n",
       "      <td>0.375534</td>\n",
       "      <td>0.375534</td>\n",
       "    </tr>\n",
       "  </tbody>\n",
       "</table>\n",
       "</div>"
      ],
      "text/plain": [
       "            Unnamed: 0        age        ym  religious  education      rate  \\\n",
       "occupation                                                                    \n",
       "1           157.247785   7.727190  5.148718   1.049502   1.926961  1.165982   \n",
       "2           156.518574  13.925166  5.865206   1.182132   2.478109  0.862316   \n",
       "3           182.526581   8.117759  5.905675   1.224178   1.753284  1.275616   \n",
       "4           163.432799   9.621662  5.587702   1.198477   2.216745  1.159001   \n",
       "5           170.359887   9.286640  5.677125   1.170197   1.855620  1.030352   \n",
       "6           188.088095   9.374497  5.443547   1.188648   1.743613  1.069532   \n",
       "7           211.928508   8.987170  4.452743   1.281025   3.012793  0.862316   \n",
       "\n",
       "            nbaffairs  below_30  affbw_30  \n",
       "occupation                                 \n",
       "1            3.049891  0.501735  0.285279  \n",
       "2            0.438529  0.506370  0.375534  \n",
       "3            3.478625  0.496053  0.427976  \n",
       "4            3.183136  0.503500  0.262944  \n",
       "5            3.429926  0.501013  0.261646  \n",
       "6            3.496942  0.466023  0.255926  \n",
       "7            2.601775  0.375534  0.375534  "
      ]
     },
     "execution_count": 32,
     "metadata": {},
     "output_type": "execute_result"
    }
   ],
   "source": [
    "affairs.groupby('occupation').std()"
   ]
  },
  {
   "cell_type": "markdown",
   "metadata": {
    "colab_type": "text",
    "id": "sECMBVZbUb_q"
   },
   "source": [
    "## Histogram\n",
    "- Another way to group **numeric** values\n",
    "- Usual algorithm:\n",
    "- - Input: Array of values, number of bins\n",
    "- - Output: Array of integer values with number of bins size\n",
    "- - Create and initialize the output array\n",
    "- - For each position of the input array, count its content in the correct position of the output array "
   ]
  },
  {
   "cell_type": "code",
   "execution_count": 33,
   "metadata": {
    "colab": {},
    "colab_type": "code",
    "id": "4rxN7hQ6cLzK"
   },
   "outputs": [],
   "source": [
    "%matplotlib inline \n",
    "import matplotlib.pyplot as plt"
   ]
  },
  {
   "cell_type": "code",
   "execution_count": 34,
   "metadata": {
    "colab": {},
    "colab_type": "code",
    "id": "E1ML1IMzQO-Z",
    "slideshow": {
     "slide_type": "notes"
    }
   },
   "outputs": [],
   "source": [
    "from random import gauss, triangular, choice, vonmisesvariate, uniform\n",
    "\n",
    "def SC(): return posint(gauss(15.1, 3) + 3 * triangular(1, 4, 13)) # 30.1\n",
    "def KT(): return posint(gauss(10.2, 3) + 3 * triangular(1, 3.5, 9)) # 22.1\n",
    "def DG(): return posint(vonmisesvariate(30, 2) * 3.08) # 14.0\n",
    "def HB(): return posint(gauss(6.7, 1.5) if choice((True, False)) else gauss(16.7, 2.5)) # 11.7\n",
    "def OT(): return posint(triangular(5, 17, 25) + uniform(0, 30) + gauss(6, 3)) # 37.0\n",
    "\n",
    "def posint(x): \"Positive integer\"; return max(0, int(round(x)))\n",
    "                                  "
   ]
  },
  {
   "cell_type": "code",
   "execution_count": 35,
   "metadata": {
    "colab": {},
    "colab_type": "code",
    "id": "_7F9qbRcby6M"
   },
   "outputs": [],
   "source": [
    "def repeated_hist(rv, bins=10, k=100000):\n",
    "    \"Repeat rv() k times and make a histogram of the results.\"\n",
    "    samples = [rv() for _ in range(k)]\n",
    "    plt.hist(samples, bins=bins)\n",
    "    return mean(samples),median(samples)"
   ]
  },
  {
   "cell_type": "code",
   "execution_count": 36,
   "metadata": {
    "colab": {
     "base_uri": "https://localhost:8080/",
     "height": 287
    },
    "colab_type": "code",
    "id": "3bUjpc5bb9qY",
    "outputId": "e1e8490d-0b48-4e9f-ba75-0b72d4783f66"
   },
   "outputs": [
    {
     "data": {
      "text/plain": [
       "(30.11665, 31.0)"
      ]
     },
     "execution_count": 36,
     "metadata": {},
     "output_type": "execute_result"
    },
    {
     "data": {
      "image/png": "[encoded data removed]",
      "text/plain": [
       "<Figure size 432x288 with 1 Axes>"
      ]
     },
     "metadata": {},
     "output_type": "display_data"
    }
   ],
   "source": [
    "repeated_hist(SC)"
   ]
  },
  {
   "cell_type": "code",
   "execution_count": 83,
   "metadata": {
    "colab": {
     "base_uri": "https://localhost:8080/",
     "height": 288
    },
    "colab_type": "code",
    "id": "yAKsAOIWY64h",
    "outputId": "d08eaff2-7963-4e57-8f86-79e9019b9c8e"
   },
   "outputs": [
    {
     "data": {
      "text/plain": [
       "(30.11225, 31.0)"
      ]
     },
     "execution_count": 83,
     "metadata": {},
     "output_type": "execute_result"
    },
    {
     "data": {
      "image/png": "[encoded data removed]",
      "text/plain": [
       "<Figure size 432x288 with 1 Axes>"
      ]
     },
     "metadata": {},
     "output_type": "display_data"
    }
   ],
   "source": [
    "repeated_hist(SC, bins=range(100))"
   ]
  },
  {
   "cell_type": "code",
   "execution_count": 38,
   "metadata": {
    "colab": {
     "base_uri": "https://localhost:8080/",
     "height": 283
    },
    "colab_type": "code",
    "id": "u0kkuGpNclun",
    "outputId": "58596ab6-8c9f-4d17-f3a8-f05d900b78e4"
   },
   "outputs": [
    {
     "data": {
      "text/plain": [
       "(22.15516, 22.0)"
      ]
     },
     "execution_count": 38,
     "metadata": {},
     "output_type": "execute_result"
    },
    {
     "data": {
      "image/png": "[encoded data removed]",
      "text/plain": [
       "<Figure size 432x288 with 1 Axes>"
      ]
     },
     "metadata": {},
     "output_type": "display_data"
    }
   ],
   "source": [
    "repeated_hist(KT, bins=range(60))"
   ]
  },
  {
   "cell_type": "code",
   "execution_count": 39,
   "metadata": {
    "colab": {
     "base_uri": "https://localhost:8080/",
     "height": 283
    },
    "colab_type": "code",
    "id": "0r-_wNBics7I",
    "outputId": "943dfebe-d4e1-4f0d-e72b-8314e7922e52"
   },
   "outputs": [
    {
     "data": {
      "text/plain": [
       "(14.02569, 15.0)"
      ]
     },
     "execution_count": 39,
     "metadata": {},
     "output_type": "execute_result"
    },
    {
     "data": {
      "image/png": "[encoded data removed]",
      "text/plain": [
       "<Figure size 432x288 with 1 Axes>"
      ]
     },
     "metadata": {},
     "output_type": "display_data"
    }
   ],
   "source": [
    "repeated_hist(DG, bins=range(60))"
   ]
  },
  {
   "cell_type": "code",
   "execution_count": 40,
   "metadata": {
    "colab": {
     "base_uri": "https://localhost:8080/",
     "height": 283
    },
    "colab_type": "code",
    "id": "Da0qhUB0c3Cr",
    "outputId": "b2fe74d5-52ec-43e9-acbe-9fa3f26f2db4"
   },
   "outputs": [
    {
     "data": {
      "text/plain": [
       "(11.69655, 10.0)"
      ]
     },
     "execution_count": 40,
     "metadata": {},
     "output_type": "execute_result"
    },
    {
     "data": {
      "image/png": "[encoded data removed]",
      "text/plain": [
       "<Figure size 432x288 with 1 Axes>"
      ]
     },
     "metadata": {},
     "output_type": "display_data"
    }
   ],
   "source": [
    "repeated_hist(HB, bins=range(60))"
   ]
  },
  {
   "cell_type": "code",
   "execution_count": 41,
   "metadata": {
    "colab": {
     "base_uri": "https://localhost:8080/",
     "height": 283
    },
    "colab_type": "code",
    "id": "JNHZcnCdc-96",
    "outputId": "730867ac-c851-41b3-93e4-3875c56cebbb"
   },
   "outputs": [
    {
     "data": {
      "text/plain": [
       "(36.2893, 36.0)"
      ]
     },
     "execution_count": 41,
     "metadata": {},
     "output_type": "execute_result"
    },
    {
     "data": {
      "image/png": "[encoded data removed]",
      "text/plain": [
       "<Figure size 432x288 with 1 Axes>"
      ]
     },
     "metadata": {},
     "output_type": "display_data"
    }
   ],
   "source": [
    "repeated_hist(OT, bins=range(60))"
   ]
  },
  {
   "cell_type": "code",
   "execution_count": 42,
   "metadata": {
    "colab": {
     "base_uri": "https://localhost:8080/",
     "height": 283
    },
    "colab_type": "code",
    "id": "yzs57n0ndGO6",
    "outputId": "fafe0fc1-6ada-4a19-fde1-131181076d2f"
   },
   "outputs": [
    {
     "data": {
      "text/plain": [
       "(114.30997, 114.0)"
      ]
     },
     "execution_count": 42,
     "metadata": {},
     "output_type": "execute_result"
    },
    {
     "data": {
      "image/png": "[encoded data removed]",
      "text/plain": [
       "<Figure size 432x288 with 1 Axes>"
      ]
     },
     "metadata": {},
     "output_type": "display_data"
    }
   ],
   "source": [
    "def GSW(): return SC() + KT() + DG() + HB() + OT()\n",
    "\n",
    "repeated_hist(GSW, bins=range(70, 160, 2))"
   ]
  },
  {
   "cell_type": "markdown",
   "metadata": {
    "colab_type": "text",
    "id": "E762AWi_ZOjl"
   },
   "source": [
    "## Pandas - Visualization"
   ]
  },
  {
   "cell_type": "code",
   "execution_count": 43,
   "metadata": {
    "colab": {
     "base_uri": "https://localhost:8080/",
     "height": 286
    },
    "colab_type": "code",
    "id": "VAtuGqlnZHUk",
    "outputId": "fbb25642-f3a0-4042-83e2-651716eaa1aa"
   },
   "outputs": [
    {
     "data": {
      "text/plain": [
       "<matplotlib.axes._subplots.AxesSubplot at 0x1138b9a7400>"
      ]
     },
     "execution_count": 43,
     "metadata": {},
     "output_type": "execute_result"
    },
    {
     "data": {
      "image/png": "[encoded data removed]",
      "text/plain": [
       "<Figure size 432x288 with 1 Axes>"
      ]
     },
     "metadata": {},
     "output_type": "display_data"
    }
   ],
   "source": [
    "\n",
    "affairs['age'].plot.hist()"
   ]
  },
  {
   "cell_type": "code",
   "execution_count": 44,
   "metadata": {
    "colab": {
     "base_uri": "https://localhost:8080/",
     "height": 335
    },
    "colab_type": "code",
    "id": "_NTcfL5WZlp2",
    "outputId": "8422fb1c-ad68-46f5-82b2-81f232ac493f"
   },
   "outputs": [
    {
     "data": {
      "text/plain": [
       "sex\n",
       "female    AxesSubplot(0.125,0.125;0.775x0.755)\n",
       "male      AxesSubplot(0.125,0.125;0.775x0.755)\n",
       "Name: age, dtype: object"
      ]
     },
     "execution_count": 44,
     "metadata": {},
     "output_type": "execute_result"
    },
    {
     "data": {
      "image/png": "[encoded data removed]",
      "text/plain": [
       "<Figure size 432x288 with 1 Axes>"
      ]
     },
     "metadata": {},
     "output_type": "display_data"
    }
   ],
   "source": [
    "affairs.groupby('sex')['age'].plot.hist(alpha=0.5)"
   ]
  },
  {
   "cell_type": "code",
   "execution_count": null,
   "metadata": {
    "colab": {},
    "colab_type": "code",
    "id": "UxJb7B6_gE5u"
   },
   "outputs": [],
   "source": []
  },
  {
   "cell_type": "markdown",
   "metadata": {
    "colab_type": "text",
    "id": "X8HTl2Bgf_nn"
   },
   "source": [
    "## Pandas histogram documentation\n",
    "\n",
    "https://pandas.pydata.org/pandas-docs/version/0.23/generated/pandas.DataFrame.hist.html\n",
    "\n"
   ]
  },
  {
   "cell_type": "markdown",
   "metadata": {
    "colab_type": "text",
    "id": "eEVN--W4XaN2"
   },
   "source": [
    "## Seaborn\n",
    "- A beautiful visualization package\n",
    "\n",
    "https://seaborn.pydata.org/tutorial/distributions.html#distribution-tutorial\n",
    "\n",
    "- Source: https://github.com/MartinSeeler/python-data-exploration/blob/master/Exploring%20Datasets.ipynb"
   ]
  },
  {
   "cell_type": "code",
   "execution_count": 84,
   "metadata": {
    "colab": {
     "base_uri": "https://localhost:8080/",
     "height": 441
    },
    "colab_type": "code",
    "id": "ydvxF2mEgKo9",
    "outputId": "58ae01f1-a6fe-4372-e39a-68c9306b4961"
   },
   "outputs": [
    {
     "name": "stderr",
     "output_type": "stream",
     "text": [
      "C:\\ProgramData\\Anaconda3\\lib\\site-packages\\matplotlib\\axes\\_axes.py:6462: UserWarning: The 'normed' kwarg is deprecated, and has been replaced by the 'density' kwarg.\n",
      "  warnings.warn(\"The 'normed' kwarg is deprecated, and has been \"\n"
     ]
    },
    {
     "data": {
      "image/png": "[encoded data removed]",
      "text/plain": [
       "<Figure size 432x288 with 1 Axes>"
      ]
     },
     "metadata": {},
     "output_type": "display_data"
    }
   ],
   "source": [
    "import seaborn as sns\n",
    "import numpy as np\n",
    "\n",
    "sns.set(color_codes=True)\n",
    "sns.set_context('talk')\n",
    "\n",
    "x = np.random.normal(size=100)\n",
    "\n",
    "sns.distplot(x, kde=True, rug=True);\n"
   ]
  },
  {
   "cell_type": "code",
   "execution_count": 46,
   "metadata": {
    "colab": {
     "base_uri": "https://localhost:8080/",
     "height": 441
    },
    "colab_type": "code",
    "id": "thCgiFd2gxnM",
    "outputId": "89941f7e-6bd5-407f-fd01-1f5b66f5d49c"
   },
   "outputs": [
    {
     "name": "stderr",
     "output_type": "stream",
     "text": [
      "C:\\ProgramData\\Anaconda3\\lib\\site-packages\\matplotlib\\axes\\_axes.py:6462: UserWarning: The 'normed' kwarg is deprecated, and has been replaced by the 'density' kwarg.\n",
      "  warnings.warn(\"The 'normed' kwarg is deprecated, and has been \"\n"
     ]
    },
    {
     "data": {
      "image/png": "[encoded data removed]",
      "text/plain": [
       "<Figure size 432x288 with 1 Axes>"
      ]
     },
     "metadata": {},
     "output_type": "display_data"
    }
   ],
   "source": [
    "sns.distplot(x, bins=20, kde=False, rug=True);"
   ]
  },
  {
   "cell_type": "code",
   "execution_count": 47,
   "metadata": {
    "colab": {
     "base_uri": "https://localhost:8080/",
     "height": 480
    },
    "colab_type": "code",
    "id": "QP1vABfZhHS3",
    "outputId": "8325af6c-34cc-43d3-9004-86414baf5c49"
   },
   "outputs": [
    {
     "name": "stderr",
     "output_type": "stream",
     "text": [
      "C:\\ProgramData\\Anaconda3\\lib\\site-packages\\matplotlib\\axes\\_axes.py:6462: UserWarning: The 'normed' kwarg is deprecated, and has been replaced by the 'density' kwarg.\n",
      "  warnings.warn(\"The 'normed' kwarg is deprecated, and has been \"\n"
     ]
    },
    {
     "data": {
      "text/plain": [
       "<matplotlib.axes._subplots.AxesSubplot at 0x1138d5d9198>"
      ]
     },
     "execution_count": 47,
     "metadata": {},
     "output_type": "execute_result"
    },
    {
     "data": {
      "image/png": "[encoded data removed]",
      "text/plain": [
       "<Figure size 432x288 with 1 Axes>"
      ]
     },
     "metadata": {},
     "output_type": "display_data"
    }
   ],
   "source": [
    "sns.distplot(affairs['age'],kde=False, bins=50,rug=True)"
   ]
  },
  {
   "cell_type": "markdown",
   "metadata": {
    "colab_type": "text",
    "id": "_pAw30Xhighi"
   },
   "source": [
    "## Did you see that?\n",
    "\n",
    "- Ages seem to end with two or seven"
   ]
  },
  {
   "cell_type": "code",
   "execution_count": 48,
   "metadata": {
    "colab": {
     "base_uri": "https://localhost:8080/",
     "height": 477
    },
    "colab_type": "code",
    "id": "lr1aOUcziSEI",
    "outputId": "d87a22ad-3fef-48c8-ec49-cca55007d2b2"
   },
   "outputs": [
    {
     "name": "stderr",
     "output_type": "stream",
     "text": [
      "C:\\ProgramData\\Anaconda3\\lib\\site-packages\\matplotlib\\axes\\_axes.py:6462: UserWarning: The 'normed' kwarg is deprecated, and has been replaced by the 'density' kwarg.\n",
      "  warnings.warn(\"The 'normed' kwarg is deprecated, and has been \"\n"
     ]
    },
    {
     "data": {
      "text/plain": [
       "<matplotlib.axes._subplots.AxesSubplot at 0x1138d5cd320>"
      ]
     },
     "execution_count": 48,
     "metadata": {},
     "output_type": "execute_result"
    },
    {
     "data": {
      "image/png": "[encoded data removed]",
      "text/plain": [
       "<Figure size 432x288 with 1 Axes>"
      ]
     },
     "metadata": {},
     "output_type": "display_data"
    }
   ],
   "source": [
    "\n",
    "sns.distplot(affairs['ym'], bins=10, kde=False)"
   ]
  },
  {
   "cell_type": "markdown",
   "metadata": {
    "colab_type": "text",
    "id": "beaEYcXOjUKL"
   },
   "source": [
    "## Mean vs years of marriage\n",
    "- \"The average age of our people is around 32, but the most people are married for more than 14 years!\""
   ]
  },
  {
   "cell_type": "code",
   "execution_count": 55,
   "metadata": {
    "colab": {
     "base_uri": "https://localhost:8080/",
     "height": 1590
    },
    "colab_type": "code",
    "id": "VD15dX8DkVYX",
    "outputId": "edd5b80b-bdff-4e7c-ac63-2fb574e90cd5"
   },
   "outputs": [],
   "source": [
    "from PIL import Image\n",
    "import matplotlib as mtplb\n",
    "\n",
    "# https://stackoverflow.com/questions/7391945/how-do-i-read-image-data-from-a-url-in-python\n",
    "\n",
    "import shutil\n",
    "import requests\n",
    "\n",
    "lena_url = 'https://imagej.nih.gov/ij/images/lena.jpg'\n",
    "response = requests.get(lena_url, stream=True)\n",
    "with open('lena.jpg', 'wb') as file:\n",
    "    shutil.copyfileobj(response.raw, file)\n",
    "del response\n"
   ]
  },
  {
   "cell_type": "code",
   "execution_count": 56,
   "metadata": {},
   "outputs": [],
   "source": [
    "im = Image.open(\"lena.jpg\").convert('L')\n",
    "im.show()"
   ]
  },
  {
   "cell_type": "code",
   "execution_count": 77,
   "metadata": {},
   "outputs": [
    {
     "data": {
      "text/plain": [
       "[<matplotlib.lines.Line2D at 0x1138f792358>]"
      ]
     },
     "execution_count": 77,
     "metadata": {},
     "output_type": "execute_result"
    },
    {
     "data": {
      "image/png": "[encoded data removed]",
      "text/plain": [
       "<Figure size 432x288 with 1 Axes>"
      ]
     },
     "metadata": {},
     "output_type": "display_data"
    }
   ],
   "source": [
    "histLena = np.array(im.histogram())\n",
    "plt.plot(histLena,'.')"
   ]
  }
 ],
 "metadata": {
  "celltoolbar": "Slideshow",
  "colab": {
   "name": "MAC0459-Class4.ipynb",
   "provenance": [],
   "version": "0.3.2"
  },
  "kernelspec": {
   "display_name": "Python 3",
   "language": "python",
   "name": "python3"
  },
  "language_info": {
   "codemirror_mode": {
    "name": "ipython",
    "version": 3
   },
   "file_extension": ".py",
   "mimetype": "text/x-python",
   "name": "python",
   "nbconvert_exporter": "python",
   "pygments_lexer": "ipython3",
   "version": "3.6.3"
  },
  "latex_envs": {
   "LaTeX_envs_menu_present": true,
   "bibliofile": "biblio.bib",
   "cite_by": "apalike",
   "current_citInitial": 1,
   "eqLabelWithNumbers": true,
   "eqNumInitial": 1,
   "hotkeys": {
    "equation": "Ctrl-E",
    "itemize": "Ctrl-I"
   },
   "labels_anchors": false,
   "latex_user_defs": false,
   "report_style_numbering": false,
   "user_envs_cfg": false
  },
  "toc": {
   "colors": {
    "hover_highlight": "#DAA520",
    "running_highlight": "#FF0000",
    "selected_highlight": "#FFD700"
   },
   "moveMenuLeft": true,
   "nav_menu": {
    "height": "263.2px",
    "width": "252px"
   },
   "navigate_menu": true,
   "number_sections": true,
   "sideBar": true,
   "threshold": 4,
   "toc_cell": false,
   "toc_section_display": "block",
   "toc_window_display": false
  }
 },
 "nbformat": 4,
 "nbformat_minor": 1
}
