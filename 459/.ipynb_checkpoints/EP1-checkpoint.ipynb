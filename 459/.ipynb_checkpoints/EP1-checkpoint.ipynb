{
 "cells": [
  {
   "cell_type": "markdown",
   "metadata": {},
   "source": [
    "## Indentification of all the members of the group.\n",
    "Name: Gabriel Miranda de Araujo     NUSP:10297689 \n",
    "\n",
    "Name: Vinícius Moreno da Silva      NUSP:10297776"
   ]
  },
  {
   "cell_type": "markdown",
   "metadata": {},
   "source": [
    "## Name of the dataset\n",
    "Dataset: student-mat e student-por"
   ]
  },
  {
   "cell_type": "markdown",
   "metadata": {},
   "source": [
    "## Motivation to choose this dataset\n",
    "Rational for choosing this dataset: Nós tinhamos interesse em descobrir fatores que podem impactar o desempenho dos estudantes"
   ]
  },
  {
   "cell_type": "markdown",
   "metadata": {},
   "source": [
    "## Abstract\n",
    "Abstract of the dataset (describe the dataset with your own words): O dataset aborda diversos aspectos das vidas dos estudantes, desde o ambiente familiar até atividades extracurriculares"
   ]
  },
  {
   "cell_type": "markdown",
   "metadata": {},
   "source": [
    "## Questions to the dataset\n",
    "Question 1: Qual a proporção do sexo dos estudantes para cada disciplina?\n",
    "\n",
    "Question 2: Há uma relação entre a idade e o número de reprovações?\n",
    "\n",
    "Question 3: Qual a correlação entre tempo de estudo e reprovações?\n",
    "\n",
    "Question 4: Relacionamentos amorosos afetam o tempo de estudo dos estudantes?\n",
    "\n",
    "Question 5: O status de relacionamento dos pais tem algum impacto significativo nas notas dos estudantes?"
   ]
  },
  {
   "cell_type": "markdown",
   "metadata": {},
   "source": [
    "## Introdução\n",
    "Nosso foco durante esse EP foi utilizar a visualização das médias dos dados para poder inferir possíveis relações entre classes diferentes do dataset. Esse método foi consistente durante todo o desenvolvimento do projeto, e provou-se eficaz para as questões propostas."
   ]
  },
  {
   "cell_type": "code",
   "execution_count": 4,
   "metadata": {},
   "outputs": [],
   "source": [
    "import matplotlib.pyplot as plt\n",
    "import csv\n",
    "import pandas as pd\n",
    "import numpy\n",
    "import seaborn as sns\n",
    "%matplotlib inline\n",
    "\n",
    "\n",
    "dfpor = pd.read_csv('student-por.csv', sep=';')\n",
    "dfmat = pd.read_csv('student-mat.csv', sep=';')"
   ]
  },
  {
   "cell_type": "markdown",
   "metadata": {},
   "source": [
    "1: Para a disciplina de português, temos cerca de 59% dos estudantes sendo do sexo feminino, como mostra a tabela:"
   ]
  },
  {
   "cell_type": "code",
   "execution_count": 5,
   "metadata": {},
   "outputs": [
    {
     "data": {
      "text/html": [
       "<div>\n",
       "<style scoped>\n",
       "    .dataframe tbody tr th:only-of-type {\n",
       "        vertical-align: middle;\n",
       "    }\n",
       "\n",
       "    .dataframe tbody tr th {\n",
       "        vertical-align: top;\n",
       "    }\n",
       "\n",
       "    .dataframe thead th {\n",
       "        text-align: right;\n",
       "    }\n",
       "</style>\n",
       "<table border=\"1\" class=\"dataframe\">\n",
       "  <thead>\n",
       "    <tr style=\"text-align: right;\">\n",
       "      <th></th>\n",
       "      <th>Estudantes de Português</th>\n",
       "    </tr>\n",
       "    <tr>\n",
       "      <th>sex</th>\n",
       "      <th></th>\n",
       "    </tr>\n",
       "  </thead>\n",
       "  <tbody>\n",
       "    <tr>\n",
       "      <th>F</th>\n",
       "      <td>383</td>\n",
       "    </tr>\n",
       "    <tr>\n",
       "      <th>M</th>\n",
       "      <td>266</td>\n",
       "    </tr>\n",
       "  </tbody>\n",
       "</table>\n",
       "</div>"
      ],
      "text/plain": [
       "     Estudantes de Português\n",
       "sex                         \n",
       "F                        383\n",
       "M                        266"
      ]
     },
     "execution_count": 5,
     "metadata": {},
     "output_type": "execute_result"
    }
   ],
   "source": [
    "pEstudantes = dfpor.groupby('sex')[['school']].count()\n",
    "pEstudantes.columns=['Estudantes de Português']\n",
    "pEstudantes"
   ]
  },
  {
   "cell_type": "markdown",
   "metadata": {},
   "source": [
    "Já para Matemática, temos uma divisão mais equilibrada, com 53% dos estudantes sendo mulheres:"
   ]
  },
  {
   "cell_type": "code",
   "execution_count": 6,
   "metadata": {},
   "outputs": [
    {
     "data": {
      "text/html": [
       "<div>\n",
       "<style scoped>\n",
       "    .dataframe tbody tr th:only-of-type {\n",
       "        vertical-align: middle;\n",
       "    }\n",
       "\n",
       "    .dataframe tbody tr th {\n",
       "        vertical-align: top;\n",
       "    }\n",
       "\n",
       "    .dataframe thead th {\n",
       "        text-align: right;\n",
       "    }\n",
       "</style>\n",
       "<table border=\"1\" class=\"dataframe\">\n",
       "  <thead>\n",
       "    <tr style=\"text-align: right;\">\n",
       "      <th></th>\n",
       "      <th>Estudantes de Matemática</th>\n",
       "    </tr>\n",
       "    <tr>\n",
       "      <th>sex</th>\n",
       "      <th></th>\n",
       "    </tr>\n",
       "  </thead>\n",
       "  <tbody>\n",
       "    <tr>\n",
       "      <th>F</th>\n",
       "      <td>208</td>\n",
       "    </tr>\n",
       "    <tr>\n",
       "      <th>M</th>\n",
       "      <td>187</td>\n",
       "    </tr>\n",
       "  </tbody>\n",
       "</table>\n",
       "</div>"
      ],
      "text/plain": [
       "     Estudantes de Matemática\n",
       "sex                          \n",
       "F                         208\n",
       "M                         187"
      ]
     },
     "execution_count": 6,
     "metadata": {},
     "output_type": "execute_result"
    }
   ],
   "source": [
    "mEstudantes = dfmat.groupby('sex')[['school']].count()\n",
    "mEstudantes.columns=['Estudantes de Matemática']\n",
    "mEstudantes"
   ]
  },
  {
   "cell_type": "markdown",
   "metadata": {},
   "source": [
    "2: Se analisarmos o histograma das idades em conjunto com o gráfico (Idade x Reprovações), percebemos que, em ambas as disciplinas, é evidente que o aumento da idade está correlacionado com o de reprovações. Abaixo estão ambos os de Matemática e Português, respectivamente:"
   ]
  },
  {
   "cell_type": "code",
   "execution_count": 7,
   "metadata": {},
   "outputs": [
    {
     "name": "stderr",
     "output_type": "stream",
     "text": [
      "/Library/Frameworks/Python.framework/Versions/3.6/lib/python3.6/site-packages/matplotlib/figure.py:459: UserWarning: matplotlib is currently using a non-GUI backend, so cannot show the figure\n",
      "  \"matplotlib is currently using a non-GUI backend, \"\n"
     ]
    },
    {
     "data": {
      "image/png": "[encoded data removed]",
      "text/plain": [
       "<Figure size 864x432 with 2 Axes>"
      ]
     },
     "metadata": {
      "needs_background": "light"
     },
     "output_type": "display_data"
    }
   ],
   "source": [
    "fig, ax = plt.subplots(1,2, figsize=(12,6))\n",
    "sns.distplot(dfmat['age'],ax=ax[0])\n",
    "sns.barplot(dfmat['age'], dfmat['failures'],ax=ax[1])\n",
    "fig.show()"
   ]
  },
  {
   "cell_type": "code",
   "execution_count": 8,
   "metadata": {},
   "outputs": [
    {
     "name": "stderr",
     "output_type": "stream",
     "text": [
      "/Library/Frameworks/Python.framework/Versions/3.6/lib/python3.6/site-packages/matplotlib/figure.py:459: UserWarning: matplotlib is currently using a non-GUI backend, so cannot show the figure\n",
      "  \"matplotlib is currently using a non-GUI backend, \"\n"
     ]
    },
    {
     "data": {
      "image/png": "[encoded data removed]",
      "text/plain": [
       "<Figure size 864x432 with 2 Axes>"
      ]
     },
     "metadata": {
      "needs_background": "light"
     },
     "output_type": "display_data"
    }
   ],
   "source": [
    "fig, ax = plt.subplots(1,2, figsize=(12,6))\n",
    "sns.distplot(dfpor['age'],ax=ax[0])\n",
    "sns.barplot(dfpor['age'], dfpor['failures'],ax=ax[1])\n",
    "fig.show()"
   ]
  },
  {
   "cell_type": "markdown",
   "metadata": {},
   "source": [
    "3: Para essa questão, é nítido que o tempo de estudo tem impacto significativo na quantidade de reprovações dos estudantes; quanto maior o tempo dedicado, menor a quantidade de reprovações. Abaixo estão os respectivos gráficos (Tempo de estudo x Reprovações) de Matemática e Português:"
   ]
  },
  {
   "cell_type": "code",
   "execution_count": 9,
   "metadata": {},
   "outputs": [
    {
     "name": "stderr",
     "output_type": "stream",
     "text": [
      "/Library/Frameworks/Python.framework/Versions/3.6/lib/python3.6/site-packages/matplotlib/figure.py:459: UserWarning: matplotlib is currently using a non-GUI backend, so cannot show the figure\n",
      "  \"matplotlib is currently using a non-GUI backend, \"\n"
     ]
    },
    {
     "data": {
      "image/png": "[encoded data removed]",
      "text/plain": [
       "<Figure size 864x432 with 2 Axes>"
      ]
     },
     "metadata": {
      "needs_background": "light"
     },
     "output_type": "display_data"
    }
   ],
   "source": [
    "fig, ax = plt.subplots(1,2, figsize=(12,6))\n",
    "sns.barplot(dfmat['studytime'], dfmat['failures'],ax=ax[0])\n",
    "sns.barplot(dfpor['studytime'], dfpor['failures'],ax=ax[1])\n",
    "fig.show()"
   ]
  },
  {
   "cell_type": "markdown",
   "metadata": {},
   "source": [
    "4: Ao contrário das expectativas de senso comum, não encontramos evidências de que relacionamentos amorosos afetem o tempo dedicado aos estudos. Os gráficos (Relacionamentos x Tempo de estudo) abaixo demonstram isso, já que não há mudança significativa entre as médias de dedicação aos estudos entre estudantes dentro e fora de relacionamentos. Os gráficos representados são, respectivamente, os das disciplinas de Matemática e Português:"
   ]
  },
  {
   "cell_type": "code",
   "execution_count": 10,
   "metadata": {},
   "outputs": [
    {
     "name": "stderr",
     "output_type": "stream",
     "text": [
      "/Library/Frameworks/Python.framework/Versions/3.6/lib/python3.6/site-packages/matplotlib/figure.py:459: UserWarning: matplotlib is currently using a non-GUI backend, so cannot show the figure\n",
      "  \"matplotlib is currently using a non-GUI backend, \"\n"
     ]
    },
    {
     "data": {
      "image/png": "[encoded data removed]",
      "text/plain": [
       "<Figure size 864x432 with 2 Axes>"
      ]
     },
     "metadata": {
      "needs_background": "light"
     },
     "output_type": "display_data"
    }
   ],
   "source": [
    "fig, ax = plt.subplots(1,2, figsize=(12,6))\n",
    "sns.barplot(dfmat['studytime'], dfmat['romantic'],ax=ax[0])\n",
    "sns.barplot(dfpor['studytime'], dfpor['romantic'],ax=ax[1])\n",
    "fig.show()"
   ]
  },
  {
   "cell_type": "markdown",
   "metadata": {},
   "source": [
    "5: Finalmente, discutimos o efeito do ambiente familiar; especificamente, o efeito de pais juntos ou separados no desempenho escolar dos alunos. É possível perceber que não há real diferença no desempenho médio (notas finais) dos estudantes de ambos os ambientes. Os gráficos abaixo (Status civil dos pais x Média final) são, respectivamente, das aulas de mMtemática e Português:"
   ]
  },
  {
   "cell_type": "code",
   "execution_count": 11,
   "metadata": {},
   "outputs": [
    {
     "name": "stderr",
     "output_type": "stream",
     "text": [
      "/Library/Frameworks/Python.framework/Versions/3.6/lib/python3.6/site-packages/matplotlib/figure.py:459: UserWarning: matplotlib is currently using a non-GUI backend, so cannot show the figure\n",
      "  \"matplotlib is currently using a non-GUI backend, \"\n"
     ]
    },
    {
     "data": {
      "image/png": "[encoded data removed]",
      "text/plain": [
       "<Figure size 864x432 with 2 Axes>"
      ]
     },
     "metadata": {
      "needs_background": "light"
     },
     "output_type": "display_data"
    }
   ],
   "source": [
    "fig, ax = plt.subplots(1,2, figsize=(12,6))\n",
    "sns.barplot(dfmat['Pstatus'], dfmat['G3'],ax=ax[0])\n",
    "sns.barplot(dfpor['Pstatus'], dfpor['G3'],ax=ax[1])\n",
    "fig.show()"
   ]
  },
  {
   "cell_type": "code",
   "execution_count": null,
   "metadata": {
    "collapsed": true
   },
   "outputs": [],
   "source": []
  }
 ],
 "metadata": {
  "kernelspec": {
   "display_name": "Python 3",
   "language": "python",
   "name": "python3"
  },
  "language_info": {
   "codemirror_mode": {
    "name": "ipython",
    "version": 3
   },
   "file_extension": ".py",
   "mimetype": "text/x-python",
   "name": "python",
   "nbconvert_exporter": "python",
   "pygments_lexer": "ipython3",
   "version": "3.6.3"
  }
 },
 "nbformat": 4,
 "nbformat_minor": 2
}
