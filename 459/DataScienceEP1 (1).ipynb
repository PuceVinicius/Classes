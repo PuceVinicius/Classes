{
 "cells": [
  {
   "cell_type": "markdown",
   "metadata": {},
   "source": [
    "## Indentification\n",
    "\n",
    "Name: Vinícius Moreno da Silva NUSP: 10297776"
   ]
  },
  {
   "cell_type": "markdown",
   "metadata": {},
   "source": [
    "## Name of the dataset\n",
    "\n",
    "Dataset: Sakila"
   ]
  },
  {
   "cell_type": "markdown",
   "metadata": {},
   "source": [
    "## Questions to the dataset\n",
    "Question 1: Filmes que tem uma duração maior, demoram mais tempo para serem devolvidos?\n",
    "\n",
    "Question 2:\n",
    "\n",
    "Question 3:\n",
    "\n",
    "Question 4:"
   ]
  }
 ],
 "metadata": {
  "kernelspec": {
   "display_name": "Python 3",
   "language": "python",
   "name": "python3"
  },
  "language_info": {
   "codemirror_mode": {
    "name": "ipython",
    "version": 3
   },
   "file_extension": ".py",
   "mimetype": "text/x-python",
   "name": "python",
   "nbconvert_exporter": "python",
   "pygments_lexer": "ipython3",
   "version": "3.6.3"
  }
 },
 "nbformat": 4,
 "nbformat_minor": 2
}
